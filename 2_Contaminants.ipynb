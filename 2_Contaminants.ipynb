{
 "cells": [
  {
   "cell_type": "markdown",
   "metadata": {},
   "source": [
    "# 3. Main contaminants emitted\n",
    "In the Exploratory Data Analysis, we've realized that some of the names of contaminants are inconsistent. In addition, contaminants were not classified in main categories. This should be addressed in order to build an analysis of the main pollutants.\n",
    "\n",
    "In this section:\n",
    "* we review the list of contaminants to make it more consistent and add relevant categories\n",
    "* we assess the breakdown of air pollution by contaminant\n",
    "* we identify the 3 main types of pollutants emitted\n",
    "* we identify the main facilities that emitted these polluants. "
   ]
  },
  {
   "cell_type": "code",
   "execution_count": 1,
   "metadata": {
    "collapsed": true
   },
   "outputs": [],
   "source": [
    "# import libraries\n",
    "import pandas as pd\n",
    "import numpy as np\n",
    "import matplotlib.pyplot as plt\n",
    "\n",
    "import plotly.offline as pyo\n",
    "import plotly.graph_objs as go\n",
    "from plotly import tools\n",
    "import plotly.figure_factory as ff"
   ]
  },
  {
   "cell_type": "code",
   "execution_count": 2,
   "metadata": {
    "collapsed": false
   },
   "outputs": [
    {
     "data": {
      "text/html": [
       "<script>requirejs.config({paths: { 'plotly': ['https://cdn.plot.ly/plotly-latest.min']},});if(!window.Plotly) {{require(['plotly'],function(plotly) {window.Plotly=plotly;});}}</script>"
      ],
      "text/vnd.plotly.v1+html": [
       "<script>requirejs.config({paths: { 'plotly': ['https://cdn.plot.ly/plotly-latest.min']},});if(!window.Plotly) {{require(['plotly'],function(plotly) {window.Plotly=plotly;});}}</script>"
      ]
     },
     "metadata": {},
     "output_type": "display_data"
    }
   ],
   "source": [
    "# display the plotly plots inside the Jupyter notebook\n",
    "pyo.init_notebook_mode(connected=True)"
   ]
  },
  {
   "cell_type": "code",
   "execution_count": 3,
   "metadata": {
    "collapsed": false
   },
   "outputs": [
    {
     "data": {
      "text/html": [
       "<div>\n",
       "<style scoped>\n",
       "    .dataframe tbody tr th:only-of-type {\n",
       "        vertical-align: middle;\n",
       "    }\n",
       "\n",
       "    .dataframe tbody tr th {\n",
       "        vertical-align: top;\n",
       "    }\n",
       "\n",
       "    .dataframe thead th {\n",
       "        text-align: right;\n",
       "    }\n",
       "</style>\n",
       "<table border=\"1\" class=\"dataframe\">\n",
       "  <thead>\n",
       "    <tr style=\"text-align: right;\">\n",
       "      <th></th>\n",
       "      <th>report_id</th>\n",
       "      <th>Event began</th>\n",
       "      <th>Event ended</th>\n",
       "      <th>Regulated entity RN number</th>\n",
       "      <th>Regulated entity name</th>\n",
       "      <th>Type(s) of air emissions event</th>\n",
       "      <th>County</th>\n",
       "      <th>contaminant</th>\n",
       "      <th>authorization</th>\n",
       "      <th>limit</th>\n",
       "      <th>quantity</th>\n",
       "      <th>units</th>\n",
       "    </tr>\n",
       "  </thead>\n",
       "  <tbody>\n",
       "    <tr>\n",
       "      <th>0</th>\n",
       "      <td>266261</td>\n",
       "      <td>2017-08-27 00:00:00</td>\n",
       "      <td>2017-09-06 00:00:00</td>\n",
       "      <td>RN103919817</td>\n",
       "      <td>CHEVRON PHILLIPS CHEMICAL CEDAR BAYOU PLANT</td>\n",
       "      <td>AIR SHUTDOWN</td>\n",
       "      <td>HARRIS</td>\n",
       "      <td>Carbon Monoxide</td>\n",
       "      <td>1504A</td>\n",
       "      <td>1892.04 LBS/HR</td>\n",
       "      <td>244040.0</td>\n",
       "      <td>lbs (est.)</td>\n",
       "    </tr>\n",
       "    <tr>\n",
       "      <th>1</th>\n",
       "      <td>266378</td>\n",
       "      <td>2017-08-29 11:50:00</td>\n",
       "      <td>2017-09-01 11:50:00</td>\n",
       "      <td>RN100217389</td>\n",
       "      <td>FLINT HILLS RESOURCES PORT ARTHUR FACILITY</td>\n",
       "      <td>AIR SHUTDOWN</td>\n",
       "      <td>JEFFERSON</td>\n",
       "      <td>Carbon Monoxide</td>\n",
       "      <td>No specific Authorization</td>\n",
       "      <td>0.0</td>\n",
       "      <td>240000.0</td>\n",
       "      <td>lbs (est.)</td>\n",
       "    </tr>\n",
       "    <tr>\n",
       "      <th>2</th>\n",
       "      <td>267078</td>\n",
       "      <td>2017-09-08 08:00:00</td>\n",
       "      <td>2017-09-22 08:00:00</td>\n",
       "      <td>RN100217389</td>\n",
       "      <td>FLINT HILLS RESOURCES PORT ARTHUR FACILITY</td>\n",
       "      <td>AIR STARTUP</td>\n",
       "      <td>JEFFERSON</td>\n",
       "      <td>Ethylene (gaseous)</td>\n",
       "      <td>No specific authorization</td>\n",
       "      <td>0.0</td>\n",
       "      <td>150000.0</td>\n",
       "      <td>lbs (est.)</td>\n",
       "    </tr>\n",
       "    <tr>\n",
       "      <th>3</th>\n",
       "      <td>267078</td>\n",
       "      <td>2017-09-08 08:00:00</td>\n",
       "      <td>2017-09-22 08:00:00</td>\n",
       "      <td>RN100217389</td>\n",
       "      <td>FLINT HILLS RESOURCES PORT ARTHUR FACILITY</td>\n",
       "      <td>AIR STARTUP</td>\n",
       "      <td>JEFFERSON</td>\n",
       "      <td>Carbon Monoxide</td>\n",
       "      <td>No specific authorization</td>\n",
       "      <td>0.0</td>\n",
       "      <td>150000.0</td>\n",
       "      <td>lbs (est.)</td>\n",
       "    </tr>\n",
       "    <tr>\n",
       "      <th>4</th>\n",
       "      <td>266566</td>\n",
       "      <td>2017-09-01 05:00:00</td>\n",
       "      <td>2017-10-01 05:00:00</td>\n",
       "      <td>RN100221662</td>\n",
       "      <td>EQUISTAR CORPUS CHRISTI PLANT</td>\n",
       "      <td>AIR STARTUP</td>\n",
       "      <td>NUECES</td>\n",
       "      <td>Carbon Monoxide</td>\n",
       "      <td>Permit 83864</td>\n",
       "      <td>721.67 LBS/HR</td>\n",
       "      <td>121000.0</td>\n",
       "      <td>lbs (est.)</td>\n",
       "    </tr>\n",
       "  </tbody>\n",
       "</table>\n",
       "</div>"
      ],
      "text/plain": [
       "   report_id          Event began          Event ended  \\\n",
       "0     266261  2017-08-27 00:00:00  2017-09-06 00:00:00   \n",
       "1     266378  2017-08-29 11:50:00  2017-09-01 11:50:00   \n",
       "2     267078  2017-09-08 08:00:00  2017-09-22 08:00:00   \n",
       "3     267078  2017-09-08 08:00:00  2017-09-22 08:00:00   \n",
       "4     266566  2017-09-01 05:00:00  2017-10-01 05:00:00   \n",
       "\n",
       "  Regulated entity RN number                        Regulated entity name  \\\n",
       "0                RN103919817  CHEVRON PHILLIPS CHEMICAL CEDAR BAYOU PLANT   \n",
       "1                RN100217389   FLINT HILLS RESOURCES PORT ARTHUR FACILITY   \n",
       "2                RN100217389   FLINT HILLS RESOURCES PORT ARTHUR FACILITY   \n",
       "3                RN100217389   FLINT HILLS RESOURCES PORT ARTHUR FACILITY   \n",
       "4                RN100221662                EQUISTAR CORPUS CHRISTI PLANT   \n",
       "\n",
       "  Type(s) of air emissions event     County         contaminant  \\\n",
       "0                   AIR SHUTDOWN     HARRIS     Carbon Monoxide   \n",
       "1                   AIR SHUTDOWN  JEFFERSON     Carbon Monoxide   \n",
       "2                    AIR STARTUP  JEFFERSON  Ethylene (gaseous)   \n",
       "3                    AIR STARTUP  JEFFERSON     Carbon Monoxide   \n",
       "4                    AIR STARTUP     NUECES     Carbon Monoxide   \n",
       "\n",
       "               authorization           limit  quantity       units  \n",
       "0                      1504A  1892.04 LBS/HR  244040.0  lbs (est.)  \n",
       "1  No specific Authorization             0.0  240000.0  lbs (est.)  \n",
       "2  No specific authorization             0.0  150000.0  lbs (est.)  \n",
       "3  No specific authorization             0.0  150000.0  lbs (est.)  \n",
       "4               Permit 83864   721.67 LBS/HR  121000.0  lbs (est.)  "
      ]
     },
     "execution_count": 3,
     "metadata": {},
     "output_type": "execute_result"
    }
   ],
   "source": [
    "# load data\n",
    "path = \" \"\n",
    "df = pd.read_csv(path+\"largest-emissions-in-lbs.csv\")\n",
    "df.head()"
   ]
  },
  {
   "cell_type": "markdown",
   "metadata": {},
   "source": [
    "## Revised and categorised list of contaminants\n",
    "As the designation of contaminants was not consistent in the dataset, I've reviewed it to provide a more consistent designation when relevant, as well as categories of pollutants. In order to identify relevant categories, I've tried to remember my courses on air pollution and chemistry. As there are 161 components listed, there was still components (with significant quantities) I could not categorise. Not being an expert in air pollution by petrochemical industry, I've asked a friend who is, to help me finish this task!\n",
    "\n",
    "-> The result is available in the \"list_of_contaminants_v3.csv\" file."
   ]
  },
  {
   "cell_type": "code",
   "execution_count": 4,
   "metadata": {
    "collapsed": false
   },
   "outputs": [
    {
     "data": {
      "text/html": [
       "<div>\n",
       "<style scoped>\n",
       "    .dataframe tbody tr th:only-of-type {\n",
       "        vertical-align: middle;\n",
       "    }\n",
       "\n",
       "    .dataframe tbody tr th {\n",
       "        vertical-align: top;\n",
       "    }\n",
       "\n",
       "    .dataframe thead th {\n",
       "        text-align: right;\n",
       "    }\n",
       "</style>\n",
       "<table border=\"1\" class=\"dataframe\">\n",
       "  <thead>\n",
       "    <tr style=\"text-align: right;\">\n",
       "      <th></th>\n",
       "      <th>report_id</th>\n",
       "      <th>Event began</th>\n",
       "      <th>Event ended</th>\n",
       "      <th>Regulated entity RN number</th>\n",
       "      <th>Regulated entity name</th>\n",
       "      <th>Type(s) of air emissions event</th>\n",
       "      <th>County</th>\n",
       "      <th>contaminant</th>\n",
       "      <th>authorization</th>\n",
       "      <th>limit</th>\n",
       "      <th>quantity</th>\n",
       "      <th>units</th>\n",
       "    </tr>\n",
       "  </thead>\n",
       "  <tbody>\n",
       "    <tr>\n",
       "      <th>1350</th>\n",
       "      <td>266110</td>\n",
       "      <td>2017-09-04 10:00:00</td>\n",
       "      <td>2017-09-05 16:10:00</td>\n",
       "      <td>RN100218973</td>\n",
       "      <td>FORMOSA POINT COMFORT PLANT</td>\n",
       "      <td>AIR STARTUP</td>\n",
       "      <td>CALHOUN</td>\n",
       "      <td>Carbon Dioxide</td>\n",
       "      <td>19168/PSDTX1226</td>\n",
       "      <td>761.65 LBS/HR</td>\n",
       "      <td>1.00</td>\n",
       "      <td>lbs (est.)</td>\n",
       "    </tr>\n",
       "    <tr>\n",
       "      <th>1405</th>\n",
       "      <td>266116</td>\n",
       "      <td>2017-09-04 07:49:00</td>\n",
       "      <td>2017-09-04 12:21:00</td>\n",
       "      <td>RN100218973</td>\n",
       "      <td>FORMOSA POINT COMFORT PLANT</td>\n",
       "      <td>AIR STARTUP</td>\n",
       "      <td>CALHOUN</td>\n",
       "      <td>Carbon Dioxide</td>\n",
       "      <td>19168/PSDTX1226</td>\n",
       "      <td>761.65 LBS/HR</td>\n",
       "      <td>0.01</td>\n",
       "      <td>lbs (est.)</td>\n",
       "    </tr>\n",
       "  </tbody>\n",
       "</table>\n",
       "</div>"
      ],
      "text/plain": [
       "      report_id          Event began          Event ended  \\\n",
       "1350     266110  2017-09-04 10:00:00  2017-09-05 16:10:00   \n",
       "1405     266116  2017-09-04 07:49:00  2017-09-04 12:21:00   \n",
       "\n",
       "     Regulated entity RN number        Regulated entity name  \\\n",
       "1350                RN100218973  FORMOSA POINT COMFORT PLANT   \n",
       "1405                RN100218973  FORMOSA POINT COMFORT PLANT   \n",
       "\n",
       "     Type(s) of air emissions event   County     contaminant    authorization  \\\n",
       "1350                    AIR STARTUP  CALHOUN  Carbon Dioxide  19168/PSDTX1226   \n",
       "1405                    AIR STARTUP  CALHOUN  Carbon Dioxide  19168/PSDTX1226   \n",
       "\n",
       "              limit  quantity       units  \n",
       "1350  761.65 LBS/HR      1.00  lbs (est.)  \n",
       "1405  761.65 LBS/HR      0.01  lbs (est.)  "
      ]
     },
     "execution_count": 4,
     "metadata": {},
     "output_type": "execute_result"
    }
   ],
   "source": [
    "df[df['contaminant']=='Carbon Dioxide']"
   ]
  },
  {
   "cell_type": "markdown",
   "metadata": {},
   "source": [
    "Carbon dioxide (CO2) is the main pollutant emitted, and it's not in the same order of magnitude as the rest of pollutans emitted. Usually it accounts for 98% of the pollution. Here almost no facility reported this pollutant, and we categorise it as \"Other material\". "
   ]
  },
  {
   "cell_type": "code",
   "execution_count": 5,
   "metadata": {
    "collapsed": false
   },
   "outputs": [
    {
     "data": {
      "text/html": [
       "<div>\n",
       "<style scoped>\n",
       "    .dataframe tbody tr th:only-of-type {\n",
       "        vertical-align: middle;\n",
       "    }\n",
       "\n",
       "    .dataframe tbody tr th {\n",
       "        vertical-align: top;\n",
       "    }\n",
       "\n",
       "    .dataframe thead th {\n",
       "        text-align: right;\n",
       "    }\n",
       "</style>\n",
       "<table border=\"1\" class=\"dataframe\">\n",
       "  <thead>\n",
       "    <tr style=\"text-align: right;\">\n",
       "      <th></th>\n",
       "      <th>ID</th>\n",
       "      <th>contaminant</th>\n",
       "      <th>consistent_designation</th>\n",
       "      <th>carbon no (for hydrocarbon)</th>\n",
       "      <th>sub-category</th>\n",
       "      <th>category</th>\n",
       "    </tr>\n",
       "  </thead>\n",
       "  <tbody>\n",
       "    <tr>\n",
       "      <th>0</th>\n",
       "      <td>25</td>\n",
       "      <td>Butane</td>\n",
       "      <td>Butanes</td>\n",
       "      <td>C4</td>\n",
       "      <td>Hydrocarbons</td>\n",
       "      <td>VOCs, solvents &amp; hydrocarbons</td>\n",
       "    </tr>\n",
       "    <tr>\n",
       "      <th>1</th>\n",
       "      <td>26</td>\n",
       "      <td>Butane, N-</td>\n",
       "      <td>Butanes</td>\n",
       "      <td>C4</td>\n",
       "      <td>Hydrocarbons</td>\n",
       "      <td>VOCs, solvents &amp; hydrocarbons</td>\n",
       "    </tr>\n",
       "    <tr>\n",
       "      <th>2</th>\n",
       "      <td>27</td>\n",
       "      <td>Butane, i</td>\n",
       "      <td>Butanes</td>\n",
       "      <td>C4</td>\n",
       "      <td>Hydrocarbons</td>\n",
       "      <td>VOCs, solvents &amp; hydrocarbons</td>\n",
       "    </tr>\n",
       "    <tr>\n",
       "      <th>3</th>\n",
       "      <td>28</td>\n",
       "      <td>Butanes</td>\n",
       "      <td>Butanes</td>\n",
       "      <td>C4</td>\n",
       "      <td>Hydrocarbons</td>\n",
       "      <td>VOCs, solvents &amp; hydrocarbons</td>\n",
       "    </tr>\n",
       "    <tr>\n",
       "      <th>4</th>\n",
       "      <td>156</td>\n",
       "      <td>n-butane</td>\n",
       "      <td>Butanes</td>\n",
       "      <td>C4</td>\n",
       "      <td>Hydrocarbons</td>\n",
       "      <td>VOCs, solvents &amp; hydrocarbons</td>\n",
       "    </tr>\n",
       "  </tbody>\n",
       "</table>\n",
       "</div>"
      ],
      "text/plain": [
       "    ID contaminant consistent_designation carbon no (for hydrocarbon)  \\\n",
       "0   25      Butane                Butanes                          C4   \n",
       "1   26  Butane, N-                Butanes                          C4   \n",
       "2   27   Butane, i                Butanes                          C4   \n",
       "3   28     Butanes                Butanes                          C4   \n",
       "4  156    n-butane                Butanes                          C4   \n",
       "\n",
       "   sub-category                       category  \n",
       "0  Hydrocarbons  VOCs, solvents & hydrocarbons  \n",
       "1  Hydrocarbons  VOCs, solvents & hydrocarbons  \n",
       "2  Hydrocarbons  VOCs, solvents & hydrocarbons  \n",
       "3  Hydrocarbons  VOCs, solvents & hydrocarbons  \n",
       "4  Hydrocarbons  VOCs, solvents & hydrocarbons  "
      ]
     },
     "execution_count": 5,
     "metadata": {},
     "output_type": "execute_result"
    }
   ],
   "source": [
    "# load categorised list of contaminants\n",
    "df_conta = pd.read_csv(path+\"../4_analyses/contaminants/list_of_contaminants_v3.csv\", sep = \";\")\n",
    "df_conta.head()"
   ]
  },
  {
   "cell_type": "code",
   "execution_count": 6,
   "metadata": {
    "collapsed": false
   },
   "outputs": [
    {
     "data": {
      "text/html": [
       "<div>\n",
       "<style scoped>\n",
       "    .dataframe tbody tr th:only-of-type {\n",
       "        vertical-align: middle;\n",
       "    }\n",
       "\n",
       "    .dataframe tbody tr th {\n",
       "        vertical-align: top;\n",
       "    }\n",
       "\n",
       "    .dataframe thead th {\n",
       "        text-align: right;\n",
       "    }\n",
       "</style>\n",
       "<table border=\"1\" class=\"dataframe\">\n",
       "  <thead>\n",
       "    <tr style=\"text-align: right;\">\n",
       "      <th></th>\n",
       "      <th>report_id</th>\n",
       "      <th>Event began</th>\n",
       "      <th>Event ended</th>\n",
       "      <th>Regulated entity RN number</th>\n",
       "      <th>Regulated entity name</th>\n",
       "      <th>Type(s) of air emissions event</th>\n",
       "      <th>County</th>\n",
       "      <th>contaminant</th>\n",
       "      <th>authorization</th>\n",
       "      <th>limit</th>\n",
       "      <th>quantity</th>\n",
       "      <th>units</th>\n",
       "      <th>category</th>\n",
       "    </tr>\n",
       "  </thead>\n",
       "  <tbody>\n",
       "    <tr>\n",
       "      <th>1450</th>\n",
       "      <td>266269</td>\n",
       "      <td>2017-08-27 10:45:00</td>\n",
       "      <td>2017-09-07 10:45:00</td>\n",
       "      <td>RN100224815</td>\n",
       "      <td>PASADENA TERMINAL</td>\n",
       "      <td>EMISSIONS EVENT</td>\n",
       "      <td>HARRIS</td>\n",
       "      <td>t-octene-2</td>\n",
       "      <td>NSR 5171</td>\n",
       "      <td>0.0</td>\n",
       "      <td>0.9473</td>\n",
       "      <td>lbs (est.)</td>\n",
       "      <td>VOCs, solvents &amp; hydrocarbons</td>\n",
       "    </tr>\n",
       "    <tr>\n",
       "      <th>1451</th>\n",
       "      <td>266556</td>\n",
       "      <td>2017-08-30 08:00:00</td>\n",
       "      <td>2017-08-31 20:00:00</td>\n",
       "      <td>RN100224815</td>\n",
       "      <td>PASADENA TERMINAL</td>\n",
       "      <td>EMISSIONS EVENT</td>\n",
       "      <td>HARRIS</td>\n",
       "      <td>t-octene-2</td>\n",
       "      <td>NSR 5171</td>\n",
       "      <td>0.0</td>\n",
       "      <td>0.1510</td>\n",
       "      <td>lbs (est.)</td>\n",
       "      <td>VOCs, solvents &amp; hydrocarbons</td>\n",
       "    </tr>\n",
       "    <tr>\n",
       "      <th>1452</th>\n",
       "      <td>266269</td>\n",
       "      <td>2017-08-27 10:45:00</td>\n",
       "      <td>2017-09-07 10:45:00</td>\n",
       "      <td>RN100224815</td>\n",
       "      <td>PASADENA TERMINAL</td>\n",
       "      <td>EMISSIONS EVENT</td>\n",
       "      <td>HARRIS</td>\n",
       "      <td>2-methylnaphthalene</td>\n",
       "      <td>NSR 5171</td>\n",
       "      <td>0.0</td>\n",
       "      <td>0.2932</td>\n",
       "      <td>lbs (est.)</td>\n",
       "      <td>VOCs, solvents &amp; hydrocarbons</td>\n",
       "    </tr>\n",
       "    <tr>\n",
       "      <th>1453</th>\n",
       "      <td>266556</td>\n",
       "      <td>2017-08-30 08:00:00</td>\n",
       "      <td>2017-08-31 20:00:00</td>\n",
       "      <td>RN100224815</td>\n",
       "      <td>PASADENA TERMINAL</td>\n",
       "      <td>EMISSIONS EVENT</td>\n",
       "      <td>HARRIS</td>\n",
       "      <td>2-methylnaphthalene</td>\n",
       "      <td>NSR 5171</td>\n",
       "      <td>0.0</td>\n",
       "      <td>0.0467</td>\n",
       "      <td>lbs (est.)</td>\n",
       "      <td>VOCs, solvents &amp; hydrocarbons</td>\n",
       "    </tr>\n",
       "    <tr>\n",
       "      <th>1454</th>\n",
       "      <td>266116</td>\n",
       "      <td>2017-09-04 07:49:00</td>\n",
       "      <td>2017-09-04 12:21:00</td>\n",
       "      <td>RN100218973</td>\n",
       "      <td>FORMOSA POINT COMFORT PLANT</td>\n",
       "      <td>AIR STARTUP</td>\n",
       "      <td>CALHOUN</td>\n",
       "      <td>Ethyl mercaptan</td>\n",
       "      <td>19168/PSDTX1226</td>\n",
       "      <td>761.65 LBS/HR</td>\n",
       "      <td>0.0200</td>\n",
       "      <td>lbs (est.)</td>\n",
       "      <td>Other material</td>\n",
       "    </tr>\n",
       "  </tbody>\n",
       "</table>\n",
       "</div>"
      ],
      "text/plain": [
       "      report_id          Event began          Event ended  \\\n",
       "1450     266269  2017-08-27 10:45:00  2017-09-07 10:45:00   \n",
       "1451     266556  2017-08-30 08:00:00  2017-08-31 20:00:00   \n",
       "1452     266269  2017-08-27 10:45:00  2017-09-07 10:45:00   \n",
       "1453     266556  2017-08-30 08:00:00  2017-08-31 20:00:00   \n",
       "1454     266116  2017-09-04 07:49:00  2017-09-04 12:21:00   \n",
       "\n",
       "     Regulated entity RN number        Regulated entity name  \\\n",
       "1450                RN100224815            PASADENA TERMINAL   \n",
       "1451                RN100224815            PASADENA TERMINAL   \n",
       "1452                RN100224815            PASADENA TERMINAL   \n",
       "1453                RN100224815            PASADENA TERMINAL   \n",
       "1454                RN100218973  FORMOSA POINT COMFORT PLANT   \n",
       "\n",
       "     Type(s) of air emissions event   County          contaminant  \\\n",
       "1450                EMISSIONS EVENT   HARRIS           t-octene-2   \n",
       "1451                EMISSIONS EVENT   HARRIS           t-octene-2   \n",
       "1452                EMISSIONS EVENT   HARRIS  2-methylnaphthalene   \n",
       "1453                EMISSIONS EVENT   HARRIS  2-methylnaphthalene   \n",
       "1454                    AIR STARTUP  CALHOUN      Ethyl mercaptan   \n",
       "\n",
       "        authorization          limit  quantity       units  \\\n",
       "1450         NSR 5171            0.0    0.9473  lbs (est.)   \n",
       "1451         NSR 5171            0.0    0.1510  lbs (est.)   \n",
       "1452         NSR 5171            0.0    0.2932  lbs (est.)   \n",
       "1453         NSR 5171            0.0    0.0467  lbs (est.)   \n",
       "1454  19168/PSDTX1226  761.65 LBS/HR    0.0200  lbs (est.)   \n",
       "\n",
       "                           category  \n",
       "1450  VOCs, solvents & hydrocarbons  \n",
       "1451  VOCs, solvents & hydrocarbons  \n",
       "1452  VOCs, solvents & hydrocarbons  \n",
       "1453  VOCs, solvents & hydrocarbons  \n",
       "1454                 Other material  "
      ]
     },
     "execution_count": 6,
     "metadata": {},
     "output_type": "execute_result"
    }
   ],
   "source": [
    "# add the category column to the main dataframe\n",
    "df = pd.merge(df,df_conta[['contaminant','category']], on = ['contaminant'])\n",
    "df.tail()"
   ]
  },
  {
   "cell_type": "code",
   "execution_count": 7,
   "metadata": {
    "collapsed": false
   },
   "outputs": [
    {
     "data": {
      "text/plain": [
       "7"
      ]
     },
     "execution_count": 7,
     "metadata": {},
     "output_type": "execute_result"
    }
   ],
   "source": [
    "df['category'].nunique()"
   ]
  },
  {
   "cell_type": "code",
   "execution_count": 8,
   "metadata": {
    "collapsed": false
   },
   "outputs": [
    {
     "data": {
      "text/plain": [
       "array(['Carbon Monoxide', 'VOCs, solvents & hydrocarbons',\n",
       "       'Sulfur dioxide', 'Propylene and propylene oxide',\n",
       "       'Particulate Matter', 'NOx', 'Other material'], dtype=object)"
      ]
     },
     "execution_count": 8,
     "metadata": {},
     "output_type": "execute_result"
    }
   ],
   "source": [
    "df['category'].unique()"
   ]
  },
  {
   "cell_type": "markdown",
   "metadata": {},
   "source": [
    "As seen with the expert, main pollutants from combustion and hydrocarbon storage are:\n",
    "* carbon dioxide (CO2),\n",
    "* sulfur dioxide (SO2),\n",
    "* nitrogen oxides (NOx),\n",
    "* particulate matter (PM),\n",
    "* carbon monoxide (CO),\n",
    "* hydrocarbons (HC) / Volatile Organic Compounds (VOC),\n",
    "* and specific pollutants (such as heavy metals, ammonia).\n",
    "\n",
    "\n",
    "\n",
    "In the category called « VOCs, solvents & hydrocarbons », we include the following components:\n",
    "* Methane (most of the natural gas)\n",
    "* Hydrocarbons\n",
    "* Solvents\n",
    "* VOCs: Volatile Organic Compounds can be solvents, hydrocarbons or other VOCs.\n",
    "\n",
    "NB: VOCs, solvents & hydrocarbons come from fugitive emissions (from damaged tanks and pipes) and maybe also incomplete combustion."
   ]
  },
  {
   "cell_type": "code",
   "execution_count": 9,
   "metadata": {
    "collapsed": false
   },
   "outputs": [
    {
     "data": {
      "text/html": [
       "<div>\n",
       "<style scoped>\n",
       "    .dataframe tbody tr th:only-of-type {\n",
       "        vertical-align: middle;\n",
       "    }\n",
       "\n",
       "    .dataframe tbody tr th {\n",
       "        vertical-align: top;\n",
       "    }\n",
       "\n",
       "    .dataframe thead th {\n",
       "        text-align: right;\n",
       "    }\n",
       "</style>\n",
       "<table border=\"1\" class=\"dataframe\">\n",
       "  <thead>\n",
       "    <tr style=\"text-align: right;\">\n",
       "      <th></th>\n",
       "      <th>report_id</th>\n",
       "      <th>quantity</th>\n",
       "    </tr>\n",
       "    <tr>\n",
       "      <th>contaminant</th>\n",
       "      <th></th>\n",
       "      <th></th>\n",
       "    </tr>\n",
       "  </thead>\n",
       "  <tbody>\n",
       "    <tr>\n",
       "      <th>Mineral Spirit</th>\n",
       "      <td>267578</td>\n",
       "      <td>11175.3900</td>\n",
       "    </tr>\n",
       "    <tr>\n",
       "      <th>Hydrogen Sulfide</th>\n",
       "      <td>20250665</td>\n",
       "      <td>9003.6502</td>\n",
       "    </tr>\n",
       "    <tr>\n",
       "      <th>Hydrogen</th>\n",
       "      <td>1064779</td>\n",
       "      <td>5130.2300</td>\n",
       "    </tr>\n",
       "    <tr>\n",
       "      <th>Ammonia</th>\n",
       "      <td>2131380</td>\n",
       "      <td>1716.1000</td>\n",
       "    </tr>\n",
       "    <tr>\n",
       "      <th>Methyl acrylate</th>\n",
       "      <td>267064</td>\n",
       "      <td>1184.0000</td>\n",
       "    </tr>\n",
       "    <tr>\n",
       "      <th>Methyl Acetate</th>\n",
       "      <td>267064</td>\n",
       "      <td>717.0000</td>\n",
       "    </tr>\n",
       "    <tr>\n",
       "      <th>2-Ethylhexanol</th>\n",
       "      <td>267679</td>\n",
       "      <td>527.4100</td>\n",
       "    </tr>\n",
       "    <tr>\n",
       "      <th>Hydrofluoric acid</th>\n",
       "      <td>532839</td>\n",
       "      <td>400.0000</td>\n",
       "    </tr>\n",
       "    <tr>\n",
       "      <th>Ethyl Methyl Disulfide</th>\n",
       "      <td>532839</td>\n",
       "      <td>400.0000</td>\n",
       "    </tr>\n",
       "    <tr>\n",
       "      <th>H2S</th>\n",
       "      <td>266643</td>\n",
       "      <td>300.0000</td>\n",
       "    </tr>\n",
       "    <tr>\n",
       "      <th>Methanol</th>\n",
       "      <td>532690</td>\n",
       "      <td>241.3677</td>\n",
       "    </tr>\n",
       "    <tr>\n",
       "      <th>Propylene oxide</th>\n",
       "      <td>267591</td>\n",
       "      <td>206.0000</td>\n",
       "    </tr>\n",
       "    <tr>\n",
       "      <th>Methyl mercaptan</th>\n",
       "      <td>532839</td>\n",
       "      <td>200.0000</td>\n",
       "    </tr>\n",
       "    <tr>\n",
       "      <th>Methyl disulfide</th>\n",
       "      <td>532839</td>\n",
       "      <td>200.0000</td>\n",
       "    </tr>\n",
       "    <tr>\n",
       "      <th>Hydrogen cyanide</th>\n",
       "      <td>532554</td>\n",
       "      <td>113.0000</td>\n",
       "    </tr>\n",
       "    <tr>\n",
       "      <th>Ethanol</th>\n",
       "      <td>532825</td>\n",
       "      <td>110.2435</td>\n",
       "    </tr>\n",
       "    <tr>\n",
       "      <th>Carbonyl sulfide</th>\n",
       "      <td>532554</td>\n",
       "      <td>28.0000</td>\n",
       "    </tr>\n",
       "    <tr>\n",
       "      <th>Ethylene oxide</th>\n",
       "      <td>532839</td>\n",
       "      <td>16.9100</td>\n",
       "    </tr>\n",
       "    <tr>\n",
       "      <th>Opacity</th>\n",
       "      <td>266328</td>\n",
       "      <td>8.4800</td>\n",
       "    </tr>\n",
       "    <tr>\n",
       "      <th>Carbon disulfide</th>\n",
       "      <td>532554</td>\n",
       "      <td>6.0000</td>\n",
       "    </tr>\n",
       "    <tr>\n",
       "      <th>ethylene glycol diacetate</th>\n",
       "      <td>266454</td>\n",
       "      <td>5.5200</td>\n",
       "    </tr>\n",
       "    <tr>\n",
       "      <th>Hydrogen chloride</th>\n",
       "      <td>266382</td>\n",
       "      <td>5.0000</td>\n",
       "    </tr>\n",
       "    <tr>\n",
       "      <th>Other material</th>\n",
       "      <td>533098</td>\n",
       "      <td>4.0000</td>\n",
       "    </tr>\n",
       "    <tr>\n",
       "      <th>Vinyl Chloride</th>\n",
       "      <td>266382</td>\n",
       "      <td>3.0000</td>\n",
       "    </tr>\n",
       "    <tr>\n",
       "      <th>Mercury</th>\n",
       "      <td>267474</td>\n",
       "      <td>1.2030</td>\n",
       "    </tr>\n",
       "    <tr>\n",
       "      <th>Carbon Dioxide</th>\n",
       "      <td>532226</td>\n",
       "      <td>1.0100</td>\n",
       "    </tr>\n",
       "    <tr>\n",
       "      <th>Ethyl mercaptan</th>\n",
       "      <td>266116</td>\n",
       "      <td>0.0200</td>\n",
       "    </tr>\n",
       "  </tbody>\n",
       "</table>\n",
       "</div>"
      ],
      "text/plain": [
       "                           report_id    quantity\n",
       "contaminant                                     \n",
       "Mineral Spirit                267578  11175.3900\n",
       "Hydrogen Sulfide            20250665   9003.6502\n",
       "Hydrogen                     1064779   5130.2300\n",
       "Ammonia                      2131380   1716.1000\n",
       "Methyl acrylate               267064   1184.0000\n",
       "Methyl Acetate                267064    717.0000\n",
       "2-Ethylhexanol                267679    527.4100\n",
       "Hydrofluoric acid             532839    400.0000\n",
       "Ethyl Methyl Disulfide        532839    400.0000\n",
       "H2S                           266643    300.0000\n",
       "Methanol                      532690    241.3677\n",
       "Propylene oxide               267591    206.0000\n",
       "Methyl mercaptan              532839    200.0000\n",
       "Methyl disulfide              532839    200.0000\n",
       "Hydrogen cyanide              532554    113.0000\n",
       "Ethanol                       532825    110.2435\n",
       "Carbonyl sulfide              532554     28.0000\n",
       "Ethylene oxide                532839     16.9100\n",
       "Opacity                       266328      8.4800\n",
       "Carbon disulfide              532554      6.0000\n",
       "ethylene glycol diacetate     266454      5.5200\n",
       "Hydrogen chloride             266382      5.0000\n",
       "Other material                533098      4.0000\n",
       "Vinyl Chloride                266382      3.0000\n",
       "Mercury                       267474      1.2030\n",
       "Carbon Dioxide                532226      1.0100\n",
       "Ethyl mercaptan               266116      0.0200"
      ]
     },
     "execution_count": 9,
     "metadata": {},
     "output_type": "execute_result"
    }
   ],
   "source": [
    "# check what's in \"Other material\"\n",
    "df[df['category']=='Other material'].groupby(by=['contaminant']).sum().sort_values(by='quantity',ascending = False)"
   ]
  },
  {
   "cell_type": "markdown",
   "metadata": {},
   "source": [
    "## Breakdown of air pollution by contaminant"
   ]
  },
  {
   "cell_type": "code",
   "execution_count": 10,
   "metadata": {
    "collapsed": false
   },
   "outputs": [
    {
     "name": "stdout",
     "output_type": "stream",
     "text": [
      "                                   quantity\n",
      "category                                   \n",
      "VOCs, solvents & hydrocarbons  2.014639e+06\n",
      "Carbon Monoxide                1.993716e+06\n",
      "Sulfur dioxide                 6.365035e+05\n",
      "NOx                            4.226846e+05\n",
      "Propylene and propylene oxide  2.343888e+05\n",
      "Particulate Matter             8.626717e+04\n",
      "Other material                 3.170353e+04\n"
     ]
    }
   ],
   "source": [
    "# assess quantities per contaminant type\n",
    "df2 = df.groupby(by=['category'])[['quantity']].sum()\n",
    "df2.columns = ['quantity']\n",
    "df2.sort_values(by = ['quantity'], ascending = False, inplace = True)\n",
    "print(df2)"
   ]
  },
  {
   "cell_type": "code",
   "execution_count": 11,
   "metadata": {
    "collapsed": false
   },
   "outputs": [
    {
     "data": {
      "application/vnd.plotly.v1+json": {
       "data": [
        {
         "orientation": "h",
         "type": "bar",
         "uid": "2fff4928-8d4e-11e9-b819-aae9fe7e348c",
         "x": [
          2014639.1370000024,
          1993715.7522999998,
          636503.4751999999,
          422684.5522999999,
          234388.79030000005,
          86267.17300000001,
          31703.534399999997
         ],
         "y": [
          "VOCs, solvents & hydrocarbons",
          "Carbon Monoxide",
          "Sulfur dioxide",
          "NOx",
          "Propylene and propylene oxide",
          "Particulate Matter",
          "Other material"
         ]
        }
       ],
       "layout": {
        "hovermode": "closest",
        "title": "Harvey-related emission from the chemical plants",
        "xaxis": {
         "anchor": "y",
         "domain": [
          0.25,
          1
         ],
         "title": "Quantities (lbs)"
        },
        "yaxis": {
         "anchor": "x",
         "domain": [
          0,
          1
         ]
        }
       }
      },
      "text/html": [
       "<div id=\"5926abc9-1d75-495b-8c13-2c70da92ffd9\" style=\"height: 525px; width: 100%;\" class=\"plotly-graph-div\"></div><script type=\"text/javascript\">require([\"plotly\"], function(Plotly) { window.PLOTLYENV=window.PLOTLYENV || {};window.PLOTLYENV.BASE_URL=\"https://plot.ly\";\n",
       "        Plotly.plot(\n",
       "            '5926abc9-1d75-495b-8c13-2c70da92ffd9',\n",
       "            [{\"x\": [2014639.1370000024, 1993715.7522999998, 636503.4751999999, 422684.5522999999, 234388.79030000005, 86267.17300000001, 31703.534399999997], \"y\": [\"VOCs, solvents & hydrocarbons\", \"Carbon Monoxide\", \"Sulfur dioxide\", \"NOx\", \"Propylene and propylene oxide\", \"Particulate Matter\", \"Other material\"], \"uid\": \"2fff4928-8d4e-11e9-b819-aae9fe7e348c\", \"type\": \"bar\", \"orientation\": \"h\"}],\n",
       "            {\"yaxis\": {\"domain\": [0.0, 1.0], \"anchor\": \"x\"}, \"xaxis\": {\"domain\": [0.25, 1.0], \"anchor\": \"y\", \"title\": \"Quantities (lbs)\"}, \"title\": \"Harvey-related emission from the chemical plants\", \"hovermode\": \"closest\"},\n",
       "            {\"showLink\": true, \"linkText\": \"Export to plot.ly\"}\n",
       "        ).then(function () {return Plotly.addFrames('5926abc9-1d75-495b-8c13-2c70da92ffd9',{});}).then(function(){Plotly.animate('5926abc9-1d75-495b-8c13-2c70da92ffd9');})\n",
       "        });</script>"
      ],
      "text/vnd.plotly.v1+html": [
       "<div id=\"5926abc9-1d75-495b-8c13-2c70da92ffd9\" style=\"height: 525px; width: 100%;\" class=\"plotly-graph-div\"></div><script type=\"text/javascript\">require([\"plotly\"], function(Plotly) { window.PLOTLYENV=window.PLOTLYENV || {};window.PLOTLYENV.BASE_URL=\"https://plot.ly\";\n",
       "        Plotly.plot(\n",
       "            '5926abc9-1d75-495b-8c13-2c70da92ffd9',\n",
       "            [{\"x\": [2014639.1370000024, 1993715.7522999998, 636503.4751999999, 422684.5522999999, 234388.79030000005, 86267.17300000001, 31703.534399999997], \"y\": [\"VOCs, solvents & hydrocarbons\", \"Carbon Monoxide\", \"Sulfur dioxide\", \"NOx\", \"Propylene and propylene oxide\", \"Particulate Matter\", \"Other material\"], \"uid\": \"2fff4928-8d4e-11e9-b819-aae9fe7e348c\", \"type\": \"bar\", \"orientation\": \"h\"}],\n",
       "            {\"yaxis\": {\"domain\": [0.0, 1.0], \"anchor\": \"x\"}, \"xaxis\": {\"domain\": [0.25, 1.0], \"anchor\": \"y\", \"title\": \"Quantities (lbs)\"}, \"title\": \"Harvey-related emission from the chemical plants\", \"hovermode\": \"closest\"},\n",
       "            {\"showLink\": true, \"linkText\": \"Export to plot.ly\"}\n",
       "        ).then(function () {return Plotly.addFrames('5926abc9-1d75-495b-8c13-2c70da92ffd9',{});}).then(function(){Plotly.animate('5926abc9-1d75-495b-8c13-2c70da92ffd9');})\n",
       "        });</script>"
      ]
     },
     "metadata": {},
     "output_type": "display_data"
    }
   ],
   "source": [
    "# draw horizontal bar charts of main pollutants emitted\n",
    "overall_title = \"Harvey-related emission from the chemical plants\"\n",
    "x_title = \"Quantities (lbs)\"\n",
    "export_filename = path+\"../6_communication/plots/by_contaminant_summary.html\"\n",
    "### --------------------------------------------------------\n",
    "\n",
    "trace= [go.Bar(\n",
    "        y=df2.index,\n",
    "        x=df2['quantity'],\n",
    "        orientation = 'h'\n",
    "        )]\n",
    "layout = go.Layout(title = overall_title, \n",
    "                   hovermode = 'closest',\n",
    "                   xaxis=dict(dict(title=x_title,\n",
    "                                   domain=[0.25, 1.0], anchor='y1')),\n",
    "                   yaxis=dict(dict(domain=[0.0, 1.0], anchor='x1')))\n",
    "fig = go.Figure(data = trace, layout = layout)\n",
    "pyo.iplot(fig)\n",
    "\n",
    "# export plot\n",
    "pyo.plot(fig,filename = export_filename);"
   ]
  },
  {
   "cell_type": "markdown",
   "metadata": {},
   "source": [
    "Quantities of emitted contaminants are in line with what is expected as pollution breakdown from petrochemical facilities (once CO2 has been put aside).\n",
    "* VOCs, solvents & hydrocarbons are the most emitted contaminants with approximately 2 million pounds emitted by this category, followed by carbon monoxide with almost 2 million pounds emitted as well.\n",
    "* Sulfur dioxide accounts for 636,000 pounds, while 422,000 pounds of nitrogen oxides were emitted. \n",
    "* Propylene and propylene oxide are specific contaminants that were emitted. This type of components is quite volatile, and might come from fugitive emissions (from damaged tanks and pipes for example). "
   ]
  },
  {
   "cell_type": "markdown",
   "metadata": {},
   "source": [
    "## What are the main emitting facilities? \n",
    "### VOCs, solvents & hydrocarbons"
   ]
  },
  {
   "cell_type": "code",
   "execution_count": 12,
   "metadata": {
    "collapsed": true
   },
   "outputs": [],
   "source": [
    "# assess quantities per contaminant type\n",
    "df2c = pd.pivot_table(df, values = 'quantity', index = 'Regulated entity name', columns = 'category',\n",
    "                     aggfunc = 'sum')"
   ]
  },
  {
   "cell_type": "code",
   "execution_count": 13,
   "metadata": {
    "collapsed": false
   },
   "outputs": [
    {
     "data": {
      "application/vnd.plotly.v1+json": {
       "data": [
        {
         "orientation": "h",
         "type": "bar",
         "uid": "33e597f6-8d4e-11e9-bf54-aae9fe7e348c",
         "x": [
          477500,
          277998,
          175947.53999999998,
          165948.7077000001,
          152594.27,
          131181.34999999998,
          90950,
          76482,
          69814.32999999997,
          54634.75219999996,
          53819.2,
          42561.72000000001,
          40351.3,
          28168.399999999998,
          20710,
          19905.05,
          19040,
          18385.29,
          16500,
          14941.95,
          14085.77,
          11791,
          10160,
          5410,
          5151.802300000005,
          4213.129999999999,
          3357.7,
          2385,
          2024,
          1812,
          1515,
          1111,
          1102.53,
          1012,
          833.6927999999999,
          628.24,
          180,
          149,
          100,
          100,
          71.89,
          10.47,
          1.0519999999999998
         ],
         "y": [
          "FLINT HILLS RESOURCES PORT ARTHUR FACILITY",
          "CHEVRON PHILLIPS CHEMICAL CEDAR BAYOU PLANT",
          "MARATHON PETROLEUM TEXAS CITY REFINERY",
          "PASADENA TERMINAL",
          "CHOCOLATE BAYOU PLANT",
          "CHEVRON PHILLIPS CHEMICAL SWEENY OLD OCEAN FACILITIES",
          "EQUISTAR CORPUS CHRISTI PLANT",
          "GALENA PARK TERMINAL",
          "FORMOSA POINT COMFORT PLANT",
          "EXXON MOBIL BAYTOWN REFINERY",
          "DOW TEXAS OPERATIONS FREEPORT",
          "SHELL OIL DEER PARK",
          "SWEENY REFINERY",
          "TPC GROUP PORT NECHES OPERATIONS",
          "FHR CORPUS CHRISTI WEST PLANT",
          "EXXONMOBIL BEAUMONT REFINERY",
          "HUNTSMAN PORT NECHES",
          "ARKEMA CROSBY PLANT",
          "JAVELINA GAS PROCESSING FACILITY",
          "ENTERPRISE MONT BELVIEU COMPLEX",
          "LONG POINT COMPRESSOR STATION",
          "CHEVRON PHILLIPS CHEMICAL PORT ARTHUR FACILITY",
          "FLINT HILLS RESOURCES EAST REFINERY",
          "VALERO PORT ARTHUR REFINERY",
          "EXXON MOBIL CHEMICAL BAYTOWN OLEFINS PLANT",
          "EQUISTAR CHEMICALS CHANNELVIEW COMPLEX",
          "VALERO PARTNERS HOUSTON",
          "HOUSTON PLANT",
          "CITGO CORPUS CHRISTI REFINERY EAST PLANT",
          "TOTAL PETRO CHEMICALS & REFINING USA PORT ARTHUR REFINERY",
          "EQUISTAR CHEMICALS LA PORTE COMPLEX",
          "PORT ARTHUR REFINERY",
          "UNION CARBIDE TEXAS CITY",
          "CITGO CORPUS CHRISTI REFINERY - WEST PLANT",
          "CELANESE CLEAR LAKE PLANT",
          "PASADENA PRODUCT TERMINAL",
          "GOODYEAR TIRE & RUBBER BEAUMONT CHEMICAL PLANT",
          "BLUE CUBE OPERATIONS FREEPORT",
          "BASF BEAUMONT AGRO PLANT",
          "CORPUS CHRISTI TERMINAL",
          "ENTERPRISE EAST",
          "D CILIBRAISED UNIT A1 & SIEVERS UNIT A1",
          "VALERO CORPUS CHRISTI REFINERY EAST PLANT"
         ]
        }
       ],
       "layout": {
        "hovermode": "closest",
        "title": "Contaminant: VOCs, solvents & hydrocarbons",
        "xaxis": {
         "anchor": "y",
         "domain": [
          0.25,
          1
         ],
         "title": "Quantities (lbs)"
        },
        "yaxis": {
         "anchor": "x",
         "domain": [
          0,
          1
         ]
        }
       }
      },
      "text/html": [
       "<div id=\"cdaf043d-ad4f-45c5-bdc5-2701c02e913e\" style=\"height: 525px; width: 100%;\" class=\"plotly-graph-div\"></div><script type=\"text/javascript\">require([\"plotly\"], function(Plotly) { window.PLOTLYENV=window.PLOTLYENV || {};window.PLOTLYENV.BASE_URL=\"https://plot.ly\";\n",
       "        Plotly.plot(\n",
       "            'cdaf043d-ad4f-45c5-bdc5-2701c02e913e',\n",
       "            [{\"x\": [477500.0, 277998.0, 175947.53999999998, 165948.7077000001, 152594.27, 131181.34999999998, 90950.0, 76482.0, 69814.32999999997, 54634.75219999996, 53819.2, 42561.72000000001, 40351.3, 28168.399999999998, 20710.0, 19905.05, 19040.0, 18385.29, 16500.0, 14941.95, 14085.77, 11791.0, 10160.0, 5410.0, 5151.802300000005, 4213.129999999999, 3357.7, 2385.0, 2024.0, 1812.0, 1515.0, 1111.0, 1102.53, 1012.0, 833.6927999999999, 628.24, 180.0, 149.0, 100.0, 100.0, 71.89, 10.47, 1.0519999999999998], \"y\": [\"FLINT HILLS RESOURCES PORT ARTHUR FACILITY\", \"CHEVRON PHILLIPS CHEMICAL CEDAR BAYOU PLANT\", \"MARATHON PETROLEUM TEXAS CITY REFINERY\", \"PASADENA TERMINAL\", \"CHOCOLATE BAYOU PLANT\", \"CHEVRON PHILLIPS CHEMICAL SWEENY OLD OCEAN FACILITIES\", \"EQUISTAR CORPUS CHRISTI PLANT\", \"GALENA PARK TERMINAL\", \"FORMOSA POINT COMFORT PLANT\", \"EXXON MOBIL BAYTOWN REFINERY\", \"DOW TEXAS OPERATIONS FREEPORT\", \"SHELL OIL DEER PARK\", \"SWEENY REFINERY\", \"TPC GROUP PORT NECHES OPERATIONS\", \"FHR CORPUS CHRISTI WEST PLANT\", \"EXXONMOBIL BEAUMONT REFINERY\", \"HUNTSMAN PORT NECHES\", \"ARKEMA CROSBY PLANT\", \"JAVELINA GAS PROCESSING FACILITY\", \"ENTERPRISE MONT BELVIEU COMPLEX\", \"LONG POINT COMPRESSOR STATION\", \"CHEVRON PHILLIPS CHEMICAL PORT ARTHUR FACILITY\", \"FLINT HILLS RESOURCES EAST REFINERY\", \"VALERO PORT ARTHUR REFINERY\", \"EXXON MOBIL CHEMICAL BAYTOWN OLEFINS PLANT\", \"EQUISTAR CHEMICALS CHANNELVIEW COMPLEX\", \"VALERO PARTNERS HOUSTON\", \"HOUSTON PLANT\", \"CITGO CORPUS CHRISTI REFINERY EAST PLANT\", \"TOTAL PETRO CHEMICALS & REFINING USA PORT ARTHUR REFINERY\", \"EQUISTAR CHEMICALS LA PORTE COMPLEX\", \"PORT ARTHUR REFINERY\", \"UNION CARBIDE TEXAS CITY\", \"CITGO CORPUS CHRISTI REFINERY - WEST PLANT\", \"CELANESE CLEAR LAKE PLANT\", \"PASADENA PRODUCT TERMINAL\", \"GOODYEAR TIRE & RUBBER BEAUMONT CHEMICAL PLANT\", \"BLUE CUBE OPERATIONS FREEPORT\", \"BASF BEAUMONT AGRO PLANT\", \"CORPUS CHRISTI TERMINAL\", \"ENTERPRISE EAST\", \"D CILIBRAISED UNIT A1 & SIEVERS UNIT A1\", \"VALERO CORPUS CHRISTI REFINERY EAST PLANT\"], \"uid\": \"33e597f6-8d4e-11e9-bf54-aae9fe7e348c\", \"type\": \"bar\", \"orientation\": \"h\"}],\n",
       "            {\"yaxis\": {\"domain\": [0.0, 1.0], \"anchor\": \"x\"}, \"xaxis\": {\"domain\": [0.25, 1.0], \"anchor\": \"y\", \"title\": \"Quantities (lbs)\"}, \"title\": \"Contaminant: VOCs, solvents & hydrocarbons\", \"hovermode\": \"closest\"},\n",
       "            {\"showLink\": true, \"linkText\": \"Export to plot.ly\"}\n",
       "        ).then(function () {return Plotly.addFrames('cdaf043d-ad4f-45c5-bdc5-2701c02e913e',{});}).then(function(){Plotly.animate('cdaf043d-ad4f-45c5-bdc5-2701c02e913e');})\n",
       "        });</script>"
      ],
      "text/vnd.plotly.v1+html": [
       "<div id=\"cdaf043d-ad4f-45c5-bdc5-2701c02e913e\" style=\"height: 525px; width: 100%;\" class=\"plotly-graph-div\"></div><script type=\"text/javascript\">require([\"plotly\"], function(Plotly) { window.PLOTLYENV=window.PLOTLYENV || {};window.PLOTLYENV.BASE_URL=\"https://plot.ly\";\n",
       "        Plotly.plot(\n",
       "            'cdaf043d-ad4f-45c5-bdc5-2701c02e913e',\n",
       "            [{\"x\": [477500.0, 277998.0, 175947.53999999998, 165948.7077000001, 152594.27, 131181.34999999998, 90950.0, 76482.0, 69814.32999999997, 54634.75219999996, 53819.2, 42561.72000000001, 40351.3, 28168.399999999998, 20710.0, 19905.05, 19040.0, 18385.29, 16500.0, 14941.95, 14085.77, 11791.0, 10160.0, 5410.0, 5151.802300000005, 4213.129999999999, 3357.7, 2385.0, 2024.0, 1812.0, 1515.0, 1111.0, 1102.53, 1012.0, 833.6927999999999, 628.24, 180.0, 149.0, 100.0, 100.0, 71.89, 10.47, 1.0519999999999998], \"y\": [\"FLINT HILLS RESOURCES PORT ARTHUR FACILITY\", \"CHEVRON PHILLIPS CHEMICAL CEDAR BAYOU PLANT\", \"MARATHON PETROLEUM TEXAS CITY REFINERY\", \"PASADENA TERMINAL\", \"CHOCOLATE BAYOU PLANT\", \"CHEVRON PHILLIPS CHEMICAL SWEENY OLD OCEAN FACILITIES\", \"EQUISTAR CORPUS CHRISTI PLANT\", \"GALENA PARK TERMINAL\", \"FORMOSA POINT COMFORT PLANT\", \"EXXON MOBIL BAYTOWN REFINERY\", \"DOW TEXAS OPERATIONS FREEPORT\", \"SHELL OIL DEER PARK\", \"SWEENY REFINERY\", \"TPC GROUP PORT NECHES OPERATIONS\", \"FHR CORPUS CHRISTI WEST PLANT\", \"EXXONMOBIL BEAUMONT REFINERY\", \"HUNTSMAN PORT NECHES\", \"ARKEMA CROSBY PLANT\", \"JAVELINA GAS PROCESSING FACILITY\", \"ENTERPRISE MONT BELVIEU COMPLEX\", \"LONG POINT COMPRESSOR STATION\", \"CHEVRON PHILLIPS CHEMICAL PORT ARTHUR FACILITY\", \"FLINT HILLS RESOURCES EAST REFINERY\", \"VALERO PORT ARTHUR REFINERY\", \"EXXON MOBIL CHEMICAL BAYTOWN OLEFINS PLANT\", \"EQUISTAR CHEMICALS CHANNELVIEW COMPLEX\", \"VALERO PARTNERS HOUSTON\", \"HOUSTON PLANT\", \"CITGO CORPUS CHRISTI REFINERY EAST PLANT\", \"TOTAL PETRO CHEMICALS & REFINING USA PORT ARTHUR REFINERY\", \"EQUISTAR CHEMICALS LA PORTE COMPLEX\", \"PORT ARTHUR REFINERY\", \"UNION CARBIDE TEXAS CITY\", \"CITGO CORPUS CHRISTI REFINERY - WEST PLANT\", \"CELANESE CLEAR LAKE PLANT\", \"PASADENA PRODUCT TERMINAL\", \"GOODYEAR TIRE & RUBBER BEAUMONT CHEMICAL PLANT\", \"BLUE CUBE OPERATIONS FREEPORT\", \"BASF BEAUMONT AGRO PLANT\", \"CORPUS CHRISTI TERMINAL\", \"ENTERPRISE EAST\", \"D CILIBRAISED UNIT A1 & SIEVERS UNIT A1\", \"VALERO CORPUS CHRISTI REFINERY EAST PLANT\"], \"uid\": \"33e597f6-8d4e-11e9-bf54-aae9fe7e348c\", \"type\": \"bar\", \"orientation\": \"h\"}],\n",
       "            {\"yaxis\": {\"domain\": [0.0, 1.0], \"anchor\": \"x\"}, \"xaxis\": {\"domain\": [0.25, 1.0], \"anchor\": \"y\", \"title\": \"Quantities (lbs)\"}, \"title\": \"Contaminant: VOCs, solvents & hydrocarbons\", \"hovermode\": \"closest\"},\n",
       "            {\"showLink\": true, \"linkText\": \"Export to plot.ly\"}\n",
       "        ).then(function () {return Plotly.addFrames('cdaf043d-ad4f-45c5-bdc5-2701c02e913e',{});}).then(function(){Plotly.animate('cdaf043d-ad4f-45c5-bdc5-2701c02e913e');})\n",
       "        });</script>"
      ]
     },
     "metadata": {},
     "output_type": "display_data"
    }
   ],
   "source": [
    "# draw horizontal bar chart of selected contaminant by facility\n",
    "contaminant = 'VOCs, solvents & hydrocarbons'\n",
    "overall_title = \"Contaminant: \" + contaminant\n",
    "x_title = \"Quantities (lbs)\"\n",
    "export_filename = path+\"../6_communication/plots/contribution_facility_\"+contaminant+\"_summary.html\"\n",
    "### --------------------------------------------------------\n",
    "# sort values to be displayed (descending order)\n",
    "b_df = df2c[[contaminant]].dropna().sort_values(by = [contaminant], ascending = False)\n",
    "### --------------------------------------------------------\n",
    "trace= [go.Bar(\n",
    "        y=b_df.index,\n",
    "        x=b_df[contaminant],\n",
    "        orientation = 'h'\n",
    "        )]\n",
    "layout = go.Layout(title = overall_title, \n",
    "                   hovermode = 'closest',\n",
    "                   xaxis=dict(dict(title=x_title,\n",
    "                                   domain=[0.25, 1.0], anchor='y1')),\n",
    "                   yaxis=dict(dict(domain=[0.0, 1.0], anchor='x1')))\n",
    "fig = go.Figure(data = trace, layout = layout)\n",
    "pyo.iplot(fig)\n",
    "\n",
    "# export plot\n",
    "pyo.plot(fig,filename = export_filename);"
   ]
  },
  {
   "cell_type": "code",
   "execution_count": 14,
   "metadata": {
    "collapsed": false
   },
   "outputs": [
    {
     "name": "stdout",
     "output_type": "stream",
     "text": [
      "Quantity of VOCs, solvents & hydrocarbons (lbs): 2,014,639.1369999996\n"
     ]
    }
   ],
   "source": [
    "print('Quantity of %s (lbs): %s' % (contaminant,\"{:,}\".format(b_df[contaminant].sum())))"
   ]
  },
  {
   "cell_type": "code",
   "execution_count": 15,
   "metadata": {
    "collapsed": false
   },
   "outputs": [
    {
     "data": {
      "text/plain": [
       "Regulated entity name\n",
       "FLINT HILLS RESOURCES PORT ARTHUR FACILITY               477500.0000\n",
       "CHEVRON PHILLIPS CHEMICAL CEDAR BAYOU PLANT              277998.0000\n",
       "MARATHON PETROLEUM TEXAS CITY REFINERY                   175947.5400\n",
       "PASADENA TERMINAL                                        165948.7077\n",
       "CHOCOLATE BAYOU PLANT                                    152594.2700\n",
       "CHEVRON PHILLIPS CHEMICAL SWEENY OLD OCEAN FACILITIES    131181.3500\n",
       "EQUISTAR CORPUS CHRISTI PLANT                             90950.0000\n",
       "GALENA PARK TERMINAL                                      76482.0000\n",
       "FORMOSA POINT COMFORT PLANT                               69814.3300\n",
       "Name: VOCs, solvents & hydrocarbons, dtype: float64"
      ]
     },
     "execution_count": 15,
     "metadata": {},
     "output_type": "execute_result"
    }
   ],
   "source": [
    "b_df[contaminant].iloc[:9]"
   ]
  },
  {
   "cell_type": "code",
   "execution_count": 16,
   "metadata": {
    "collapsed": false
   },
   "outputs": [
    {
     "data": {
      "text/plain": [
       "0.68556688010970601"
      ]
     },
     "execution_count": 16,
     "metadata": {},
     "output_type": "execute_result"
    }
   ],
   "source": [
    "# We consider only facilities that emit more than 100,000 pounds of contaminant\n",
    "b_df[contaminant].iloc[:6].sum()/b_df[contaminant].sum()"
   ]
  },
  {
   "cell_type": "markdown",
   "metadata": {},
   "source": [
    "6 plants account for 68% of emissions from VOCs, solvents & hydrocarbons."
   ]
  },
  {
   "cell_type": "code",
   "execution_count": 17,
   "metadata": {
    "collapsed": false
   },
   "outputs": [
    {
     "name": "stdout",
     "output_type": "stream",
     "text": [
      "['FLINT HILLS RESOURCES PORT ARTHUR FACILITY', 'CHEVRON PHILLIPS CHEMICAL CEDAR BAYOU PLANT', 'MARATHON PETROLEUM TEXAS CITY REFINERY', 'PASADENA TERMINAL', 'CHOCOLATE BAYOU PLANT', 'CHEVRON PHILLIPS CHEMICAL SWEENY OLD OCEAN FACILITIES']\n"
     ]
    }
   ],
   "source": [
    "# make the list of main emitting facilities\n",
    "most_emitting_facilities = list(b_df[contaminant].iloc[:6].index)\n",
    "print(most_emitting_facilities)"
   ]
  },
  {
   "cell_type": "markdown",
   "metadata": {},
   "source": [
    "### Carbon monoxide"
   ]
  },
  {
   "cell_type": "code",
   "execution_count": 24,
   "metadata": {
    "collapsed": false
   },
   "outputs": [
    {
     "data": {
      "application/vnd.plotly.v1+json": {
       "data": [
        {
         "orientation": "h",
         "type": "bar",
         "uid": "4e4b1a24-8d4e-11e9-9735-aae9fe7e348c",
         "x": [
          390000,
          364966,
          191900,
          166000,
          156820,
          125249.60999999999,
          110000,
          69796.96999999999,
          59240.94,
          57866.91,
          55011,
          50000,
          50000,
          42493,
          20004,
          15000,
          14307.029999999999,
          12900,
          10000,
          7980,
          6864.2,
          5001,
          3709.4,
          2654,
          1955,
          1589.46,
          963,
          945,
          297.46,
          200,
          1.772,
          0.00030000000000000003
         ],
         "y": [
          "FLINT HILLS RESOURCES PORT ARTHUR FACILITY",
          "CHEVRON PHILLIPS CHEMICAL CEDAR BAYOU PLANT",
          "VALERO PORT ARTHUR REFINERY",
          "EQUISTAR CORPUS CHRISTI PLANT",
          "CHEVRON PHILLIPS CHEMICAL SWEENY OLD OCEAN FACILITIES",
          "CHOCOLATE BAYOU PLANT",
          "MARATHON PETROLEUM TEXAS CITY REFINERY",
          "EXXONMOBIL BEAUMONT REFINERY",
          "DOW TEXAS OPERATIONS FREEPORT",
          "FORMOSA POINT COMFORT PLANT",
          "PORT ARTHUR REFINERY",
          "FHR CORPUS CHRISTI WEST PLANT",
          "FLINT HILLS RESOURCES EAST REFINERY",
          "EXXON MOBIL BAYTOWN REFINERY",
          "CITGO CORPUS CHRISTI REFINERY EAST PLANT",
          "CORPUS CHRISTI TERMINAL",
          "ENTERPRISE MONT BELVIEU COMPLEX",
          "CHEVRON PHILLIPS CHEMICAL PORT ARTHUR FACILITY",
          "JAVELINA GAS PROCESSING FACILITY",
          "SWEENY REFINERY",
          "TPC GROUP PORT NECHES OPERATIONS",
          "CITGO CORPUS CHRISTI REFINERY - WEST PLANT",
          "EQUISTAR CHEMICALS CHANNELVIEW COMPLEX",
          "HUNTSMAN PORT NECHES",
          "EQUISTAR CHEMICALS LA PORTE COMPLEX",
          "ARKEMA CROSBY PLANT",
          "TOTAL PETRO CHEMICALS & REFINING USA PORT ARTHUR REFINERY",
          "HOUSTON PLANT",
          "ENTERPRISE EAST",
          "GOODYEAR TIRE & RUBBER BEAUMONT CHEMICAL PLANT",
          "VALERO CORPUS CHRISTI REFINERY EAST PLANT",
          "EXXON MOBIL CHEMICAL BAYTOWN OLEFINS PLANT"
         ]
        }
       ],
       "layout": {
        "hovermode": "closest",
        "title": "Contaminant: Carbon Monoxide",
        "xaxis": {
         "anchor": "y",
         "domain": [
          0.25,
          1
         ],
         "title": "Quantities (lbs)"
        },
        "yaxis": {
         "anchor": "x",
         "domain": [
          0,
          1
         ]
        }
       }
      },
      "text/html": [
       "<div id=\"3f9472a7-d569-482d-a3d2-d1235adcff5b\" style=\"height: 525px; width: 100%;\" class=\"plotly-graph-div\"></div><script type=\"text/javascript\">require([\"plotly\"], function(Plotly) { window.PLOTLYENV=window.PLOTLYENV || {};window.PLOTLYENV.BASE_URL=\"https://plot.ly\";\n",
       "        Plotly.plot(\n",
       "            '3f9472a7-d569-482d-a3d2-d1235adcff5b',\n",
       "            [{\"x\": [390000.0, 364966.0, 191900.0, 166000.0, 156820.0, 125249.60999999999, 110000.0, 69796.96999999999, 59240.94, 57866.91, 55011.0, 50000.0, 50000.0, 42493.0, 20004.0, 15000.0, 14307.029999999999, 12900.0, 10000.0, 7980.0, 6864.2, 5001.0, 3709.4, 2654.0, 1955.0, 1589.46, 963.0, 945.0, 297.46, 200.0, 1.772, 0.00030000000000000003], \"y\": [\"FLINT HILLS RESOURCES PORT ARTHUR FACILITY\", \"CHEVRON PHILLIPS CHEMICAL CEDAR BAYOU PLANT\", \"VALERO PORT ARTHUR REFINERY\", \"EQUISTAR CORPUS CHRISTI PLANT\", \"CHEVRON PHILLIPS CHEMICAL SWEENY OLD OCEAN FACILITIES\", \"CHOCOLATE BAYOU PLANT\", \"MARATHON PETROLEUM TEXAS CITY REFINERY\", \"EXXONMOBIL BEAUMONT REFINERY\", \"DOW TEXAS OPERATIONS FREEPORT\", \"FORMOSA POINT COMFORT PLANT\", \"PORT ARTHUR REFINERY\", \"FHR CORPUS CHRISTI WEST PLANT\", \"FLINT HILLS RESOURCES EAST REFINERY\", \"EXXON MOBIL BAYTOWN REFINERY\", \"CITGO CORPUS CHRISTI REFINERY EAST PLANT\", \"CORPUS CHRISTI TERMINAL\", \"ENTERPRISE MONT BELVIEU COMPLEX\", \"CHEVRON PHILLIPS CHEMICAL PORT ARTHUR FACILITY\", \"JAVELINA GAS PROCESSING FACILITY\", \"SWEENY REFINERY\", \"TPC GROUP PORT NECHES OPERATIONS\", \"CITGO CORPUS CHRISTI REFINERY - WEST PLANT\", \"EQUISTAR CHEMICALS CHANNELVIEW COMPLEX\", \"HUNTSMAN PORT NECHES\", \"EQUISTAR CHEMICALS LA PORTE COMPLEX\", \"ARKEMA CROSBY PLANT\", \"TOTAL PETRO CHEMICALS & REFINING USA PORT ARTHUR REFINERY\", \"HOUSTON PLANT\", \"ENTERPRISE EAST\", \"GOODYEAR TIRE & RUBBER BEAUMONT CHEMICAL PLANT\", \"VALERO CORPUS CHRISTI REFINERY EAST PLANT\", \"EXXON MOBIL CHEMICAL BAYTOWN OLEFINS PLANT\"], \"uid\": \"4e4b1a24-8d4e-11e9-9735-aae9fe7e348c\", \"type\": \"bar\", \"orientation\": \"h\"}],\n",
       "            {\"yaxis\": {\"domain\": [0.0, 1.0], \"anchor\": \"x\"}, \"xaxis\": {\"domain\": [0.25, 1.0], \"anchor\": \"y\", \"title\": \"Quantities (lbs)\"}, \"title\": \"Contaminant: Carbon Monoxide\", \"hovermode\": \"closest\"},\n",
       "            {\"showLink\": true, \"linkText\": \"Export to plot.ly\"}\n",
       "        ).then(function () {return Plotly.addFrames('3f9472a7-d569-482d-a3d2-d1235adcff5b',{});}).then(function(){Plotly.animate('3f9472a7-d569-482d-a3d2-d1235adcff5b');})\n",
       "        });</script>"
      ],
      "text/vnd.plotly.v1+html": [
       "<div id=\"3f9472a7-d569-482d-a3d2-d1235adcff5b\" style=\"height: 525px; width: 100%;\" class=\"plotly-graph-div\"></div><script type=\"text/javascript\">require([\"plotly\"], function(Plotly) { window.PLOTLYENV=window.PLOTLYENV || {};window.PLOTLYENV.BASE_URL=\"https://plot.ly\";\n",
       "        Plotly.plot(\n",
       "            '3f9472a7-d569-482d-a3d2-d1235adcff5b',\n",
       "            [{\"x\": [390000.0, 364966.0, 191900.0, 166000.0, 156820.0, 125249.60999999999, 110000.0, 69796.96999999999, 59240.94, 57866.91, 55011.0, 50000.0, 50000.0, 42493.0, 20004.0, 15000.0, 14307.029999999999, 12900.0, 10000.0, 7980.0, 6864.2, 5001.0, 3709.4, 2654.0, 1955.0, 1589.46, 963.0, 945.0, 297.46, 200.0, 1.772, 0.00030000000000000003], \"y\": [\"FLINT HILLS RESOURCES PORT ARTHUR FACILITY\", \"CHEVRON PHILLIPS CHEMICAL CEDAR BAYOU PLANT\", \"VALERO PORT ARTHUR REFINERY\", \"EQUISTAR CORPUS CHRISTI PLANT\", \"CHEVRON PHILLIPS CHEMICAL SWEENY OLD OCEAN FACILITIES\", \"CHOCOLATE BAYOU PLANT\", \"MARATHON PETROLEUM TEXAS CITY REFINERY\", \"EXXONMOBIL BEAUMONT REFINERY\", \"DOW TEXAS OPERATIONS FREEPORT\", \"FORMOSA POINT COMFORT PLANT\", \"PORT ARTHUR REFINERY\", \"FHR CORPUS CHRISTI WEST PLANT\", \"FLINT HILLS RESOURCES EAST REFINERY\", \"EXXON MOBIL BAYTOWN REFINERY\", \"CITGO CORPUS CHRISTI REFINERY EAST PLANT\", \"CORPUS CHRISTI TERMINAL\", \"ENTERPRISE MONT BELVIEU COMPLEX\", \"CHEVRON PHILLIPS CHEMICAL PORT ARTHUR FACILITY\", \"JAVELINA GAS PROCESSING FACILITY\", \"SWEENY REFINERY\", \"TPC GROUP PORT NECHES OPERATIONS\", \"CITGO CORPUS CHRISTI REFINERY - WEST PLANT\", \"EQUISTAR CHEMICALS CHANNELVIEW COMPLEX\", \"HUNTSMAN PORT NECHES\", \"EQUISTAR CHEMICALS LA PORTE COMPLEX\", \"ARKEMA CROSBY PLANT\", \"TOTAL PETRO CHEMICALS & REFINING USA PORT ARTHUR REFINERY\", \"HOUSTON PLANT\", \"ENTERPRISE EAST\", \"GOODYEAR TIRE & RUBBER BEAUMONT CHEMICAL PLANT\", \"VALERO CORPUS CHRISTI REFINERY EAST PLANT\", \"EXXON MOBIL CHEMICAL BAYTOWN OLEFINS PLANT\"], \"uid\": \"4e4b1a24-8d4e-11e9-9735-aae9fe7e348c\", \"type\": \"bar\", \"orientation\": \"h\"}],\n",
       "            {\"yaxis\": {\"domain\": [0.0, 1.0], \"anchor\": \"x\"}, \"xaxis\": {\"domain\": [0.25, 1.0], \"anchor\": \"y\", \"title\": \"Quantities (lbs)\"}, \"title\": \"Contaminant: Carbon Monoxide\", \"hovermode\": \"closest\"},\n",
       "            {\"showLink\": true, \"linkText\": \"Export to plot.ly\"}\n",
       "        ).then(function () {return Plotly.addFrames('3f9472a7-d569-482d-a3d2-d1235adcff5b',{});}).then(function(){Plotly.animate('3f9472a7-d569-482d-a3d2-d1235adcff5b');})\n",
       "        });</script>"
      ]
     },
     "metadata": {},
     "output_type": "display_data"
    }
   ],
   "source": [
    "# draw horizontal bar chart of selected contaminant by facility\n",
    "contaminant = 'Carbon Monoxide'\n",
    "overall_title = \"Contaminant: \" + contaminant\n",
    "x_title = \"Quantities (lbs)\"\n",
    "export_filename = path+\"../6_communication/plots/contribution_facility_\"+contaminant+\"_summary.html\"\n",
    "### --------------------------------------------------------\n",
    "# sort values to be displayed (descending order)\n",
    "b_df = df2c[[contaminant]].dropna().sort_values(by = [contaminant], ascending = False)\n",
    "### --------------------------------------------------------\n",
    "trace= [go.Bar(\n",
    "        y=b_df.index,\n",
    "        x=b_df[contaminant],\n",
    "        orientation = 'h'\n",
    "        )]\n",
    "layout = go.Layout(title = overall_title, \n",
    "                   hovermode = 'closest',\n",
    "                   xaxis=dict(dict(title=x_title,\n",
    "                                   domain=[0.25, 1.0], anchor='y1')),\n",
    "                   yaxis=dict(dict(domain=[0.0, 1.0], anchor='x1')))\n",
    "fig = go.Figure(data = trace, layout = layout)\n",
    "pyo.iplot(fig)\n",
    "\n",
    "# export plot\n",
    "pyo.plot(fig,filename = export_filename);"
   ]
  },
  {
   "cell_type": "code",
   "execution_count": 19,
   "metadata": {
    "collapsed": false
   },
   "outputs": [
    {
     "name": "stdout",
     "output_type": "stream",
     "text": [
      "Quantity of Carbon Monoxide (lbs): 1,993,715.7523\n"
     ]
    }
   ],
   "source": [
    "print('Quantity of %s (lbs): %s' % (contaminant,\"{:,}\".format(b_df[contaminant].sum())))"
   ]
  },
  {
   "cell_type": "code",
   "execution_count": 20,
   "metadata": {
    "collapsed": false
   },
   "outputs": [
    {
     "data": {
      "text/plain": [
       "Regulated entity name\n",
       "FLINT HILLS RESOURCES PORT ARTHUR FACILITY               390000.00\n",
       "CHEVRON PHILLIPS CHEMICAL CEDAR BAYOU PLANT              364966.00\n",
       "VALERO PORT ARTHUR REFINERY                              191900.00\n",
       "EQUISTAR CORPUS CHRISTI PLANT                            166000.00\n",
       "CHEVRON PHILLIPS CHEMICAL SWEENY OLD OCEAN FACILITIES    156820.00\n",
       "CHOCOLATE BAYOU PLANT                                    125249.61\n",
       "MARATHON PETROLEUM TEXAS CITY REFINERY                   110000.00\n",
       "Name: Carbon Monoxide, dtype: float64"
      ]
     },
     "execution_count": 20,
     "metadata": {},
     "output_type": "execute_result"
    }
   ],
   "source": [
    "b_df[contaminant].iloc[:7]"
   ]
  },
  {
   "cell_type": "code",
   "execution_count": 21,
   "metadata": {
    "collapsed": false
   },
   "outputs": [
    {
     "data": {
      "text/plain": [
       "0.75483960452430032"
      ]
     },
     "execution_count": 21,
     "metadata": {},
     "output_type": "execute_result"
    }
   ],
   "source": [
    "# We consider only facilities that emit more than 100,000 pounds of contaminant\n",
    "b_df[contaminant].iloc[:7].sum()/b_df[contaminant].sum()"
   ]
  },
  {
   "cell_type": "markdown",
   "metadata": {},
   "source": [
    "7 plants account for 75% of emissions from carbon monoxide."
   ]
  },
  {
   "cell_type": "code",
   "execution_count": 22,
   "metadata": {
    "collapsed": false
   },
   "outputs": [
    {
     "name": "stdout",
     "output_type": "stream",
     "text": [
      "['FLINT HILLS RESOURCES PORT ARTHUR FACILITY', 'CHEVRON PHILLIPS CHEMICAL CEDAR BAYOU PLANT', 'MARATHON PETROLEUM TEXAS CITY REFINERY', 'PASADENA TERMINAL', 'CHOCOLATE BAYOU PLANT', 'CHEVRON PHILLIPS CHEMICAL SWEENY OLD OCEAN FACILITIES', 'FLINT HILLS RESOURCES PORT ARTHUR FACILITY', 'CHEVRON PHILLIPS CHEMICAL CEDAR BAYOU PLANT', 'VALERO PORT ARTHUR REFINERY', 'EQUISTAR CORPUS CHRISTI PLANT', 'CHEVRON PHILLIPS CHEMICAL SWEENY OLD OCEAN FACILITIES', 'CHOCOLATE BAYOU PLANT', 'MARATHON PETROLEUM TEXAS CITY REFINERY']\n"
     ]
    }
   ],
   "source": [
    "# add the facilities to the list of main emitting facilities\n",
    "most_emitting_facilities += list(b_df[contaminant].iloc[:7].index)\n",
    "print(most_emitting_facilities)"
   ]
  },
  {
   "cell_type": "markdown",
   "metadata": {},
   "source": [
    "### Sulfur dioxide"
   ]
  },
  {
   "cell_type": "code",
   "execution_count": 25,
   "metadata": {
    "collapsed": false
   },
   "outputs": [
    {
     "data": {
      "application/vnd.plotly.v1+json": {
       "data": [
        {
         "orientation": "h",
         "type": "bar",
         "uid": "55cbb9ae-8d4e-11e9-b3e7-aae9fe7e348c",
         "x": [
          216934.3002,
          147172.72,
          67000,
          60621.4,
          47666,
          37671.5,
          30000,
          8500,
          8124.35,
          5511,
          5010,
          2004,
          286.42499999999995,
          1.78
         ],
         "y": [
          "EXXON MOBIL BAYTOWN REFINERY",
          "VALERO PORT ARTHUR REFINERY",
          "TOTAL PETRO CHEMICALS & REFINING USA PORT ARTHUR REFINERY",
          "FHR CORPUS CHRISTI WEST PLANT",
          "SWEENY REFINERY",
          "FLINT HILLS RESOURCES EAST REFINERY",
          "MARATHON PETROLEUM TEXAS CITY REFINERY",
          "VALERO CORPUS CHRISTI REFINERY WEST PLANT",
          "EXXONMOBIL BEAUMONT REFINERY",
          "PORT ARTHUR REFINERY",
          "CITGO CORPUS CHRISTI REFINERY EAST PLANT",
          "CITGO CORPUS CHRISTI REFINERY - WEST PLANT",
          "VALERO CORPUS CHRISTI REFINERY EAST PLANT",
          "ARKEMA CROSBY PLANT"
         ]
        }
       ],
       "layout": {
        "hovermode": "closest",
        "title": "Contaminant: Sulfur dioxide",
        "xaxis": {
         "anchor": "y",
         "domain": [
          0.25,
          1
         ],
         "title": "Quantities (lbs)"
        },
        "yaxis": {
         "anchor": "x",
         "domain": [
          0,
          1
         ]
        }
       }
      },
      "text/html": [
       "<div id=\"8c7d88c3-5f17-406a-9c81-bf68d20b1ee9\" style=\"height: 525px; width: 100%;\" class=\"plotly-graph-div\"></div><script type=\"text/javascript\">require([\"plotly\"], function(Plotly) { window.PLOTLYENV=window.PLOTLYENV || {};window.PLOTLYENV.BASE_URL=\"https://plot.ly\";\n",
       "        Plotly.plot(\n",
       "            '8c7d88c3-5f17-406a-9c81-bf68d20b1ee9',\n",
       "            [{\"x\": [216934.3002, 147172.72, 67000.0, 60621.4, 47666.0, 37671.5, 30000.0, 8500.0, 8124.35, 5511.0, 5010.0, 2004.0, 286.42499999999995, 1.78], \"y\": [\"EXXON MOBIL BAYTOWN REFINERY\", \"VALERO PORT ARTHUR REFINERY\", \"TOTAL PETRO CHEMICALS & REFINING USA PORT ARTHUR REFINERY\", \"FHR CORPUS CHRISTI WEST PLANT\", \"SWEENY REFINERY\", \"FLINT HILLS RESOURCES EAST REFINERY\", \"MARATHON PETROLEUM TEXAS CITY REFINERY\", \"VALERO CORPUS CHRISTI REFINERY WEST PLANT\", \"EXXONMOBIL BEAUMONT REFINERY\", \"PORT ARTHUR REFINERY\", \"CITGO CORPUS CHRISTI REFINERY EAST PLANT\", \"CITGO CORPUS CHRISTI REFINERY - WEST PLANT\", \"VALERO CORPUS CHRISTI REFINERY EAST PLANT\", \"ARKEMA CROSBY PLANT\"], \"uid\": \"55cbb9ae-8d4e-11e9-b3e7-aae9fe7e348c\", \"type\": \"bar\", \"orientation\": \"h\"}],\n",
       "            {\"yaxis\": {\"domain\": [0.0, 1.0], \"anchor\": \"x\"}, \"xaxis\": {\"domain\": [0.25, 1.0], \"anchor\": \"y\", \"title\": \"Quantities (lbs)\"}, \"title\": \"Contaminant: Sulfur dioxide\", \"hovermode\": \"closest\"},\n",
       "            {\"showLink\": true, \"linkText\": \"Export to plot.ly\"}\n",
       "        ).then(function () {return Plotly.addFrames('8c7d88c3-5f17-406a-9c81-bf68d20b1ee9',{});}).then(function(){Plotly.animate('8c7d88c3-5f17-406a-9c81-bf68d20b1ee9');})\n",
       "        });</script>"
      ],
      "text/vnd.plotly.v1+html": [
       "<div id=\"8c7d88c3-5f17-406a-9c81-bf68d20b1ee9\" style=\"height: 525px; width: 100%;\" class=\"plotly-graph-div\"></div><script type=\"text/javascript\">require([\"plotly\"], function(Plotly) { window.PLOTLYENV=window.PLOTLYENV || {};window.PLOTLYENV.BASE_URL=\"https://plot.ly\";\n",
       "        Plotly.plot(\n",
       "            '8c7d88c3-5f17-406a-9c81-bf68d20b1ee9',\n",
       "            [{\"x\": [216934.3002, 147172.72, 67000.0, 60621.4, 47666.0, 37671.5, 30000.0, 8500.0, 8124.35, 5511.0, 5010.0, 2004.0, 286.42499999999995, 1.78], \"y\": [\"EXXON MOBIL BAYTOWN REFINERY\", \"VALERO PORT ARTHUR REFINERY\", \"TOTAL PETRO CHEMICALS & REFINING USA PORT ARTHUR REFINERY\", \"FHR CORPUS CHRISTI WEST PLANT\", \"SWEENY REFINERY\", \"FLINT HILLS RESOURCES EAST REFINERY\", \"MARATHON PETROLEUM TEXAS CITY REFINERY\", \"VALERO CORPUS CHRISTI REFINERY WEST PLANT\", \"EXXONMOBIL BEAUMONT REFINERY\", \"PORT ARTHUR REFINERY\", \"CITGO CORPUS CHRISTI REFINERY EAST PLANT\", \"CITGO CORPUS CHRISTI REFINERY - WEST PLANT\", \"VALERO CORPUS CHRISTI REFINERY EAST PLANT\", \"ARKEMA CROSBY PLANT\"], \"uid\": \"55cbb9ae-8d4e-11e9-b3e7-aae9fe7e348c\", \"type\": \"bar\", \"orientation\": \"h\"}],\n",
       "            {\"yaxis\": {\"domain\": [0.0, 1.0], \"anchor\": \"x\"}, \"xaxis\": {\"domain\": [0.25, 1.0], \"anchor\": \"y\", \"title\": \"Quantities (lbs)\"}, \"title\": \"Contaminant: Sulfur dioxide\", \"hovermode\": \"closest\"},\n",
       "            {\"showLink\": true, \"linkText\": \"Export to plot.ly\"}\n",
       "        ).then(function () {return Plotly.addFrames('8c7d88c3-5f17-406a-9c81-bf68d20b1ee9',{});}).then(function(){Plotly.animate('8c7d88c3-5f17-406a-9c81-bf68d20b1ee9');})\n",
       "        });</script>"
      ]
     },
     "metadata": {},
     "output_type": "display_data"
    }
   ],
   "source": [
    "# draw horizontal bar chart of selected contaminant by facility\n",
    "contaminant = 'Sulfur dioxide'\n",
    "overall_title = \"Contaminant: \" + contaminant\n",
    "x_title = \"Quantities (lbs)\"\n",
    "export_filename = path+\"../6_communication/plots/contribution_facility_\"+contaminant+\"_summary.html\"\n",
    "### --------------------------------------------------------\n",
    "# sort values to be displayed (descending order)\n",
    "b_df = df2c[[contaminant]].dropna().sort_values(by = [contaminant], ascending = False)\n",
    "### --------------------------------------------------------\n",
    "trace= [go.Bar(\n",
    "        y=b_df.index,\n",
    "        x=b_df[contaminant],\n",
    "        orientation = 'h'\n",
    "        )]\n",
    "layout = go.Layout(title = overall_title, \n",
    "                   hovermode = 'closest',\n",
    "                   xaxis=dict(dict(title=x_title,\n",
    "                                   domain=[0.25, 1.0], anchor='y1')),\n",
    "                   yaxis=dict(dict(domain=[0.0, 1.0], anchor='x1')))\n",
    "fig = go.Figure(data = trace, layout = layout)\n",
    "pyo.iplot(fig)\n",
    "\n",
    "# export plot\n",
    "pyo.plot(fig,filename = export_filename);"
   ]
  },
  {
   "cell_type": "code",
   "execution_count": 26,
   "metadata": {
    "collapsed": false
   },
   "outputs": [
    {
     "name": "stdout",
     "output_type": "stream",
     "text": [
      "Quantity of Sulfur dioxide (lbs): 636,503.4752000001\n"
     ]
    }
   ],
   "source": [
    "print('Quantity of %s (lbs): %s' % (contaminant,\"{:,}\".format(b_df[contaminant].sum())))"
   ]
  },
  {
   "cell_type": "code",
   "execution_count": 27,
   "metadata": {
    "collapsed": false
   },
   "outputs": [
    {
     "data": {
      "text/plain": [
       "Regulated entity name\n",
       "EXXON MOBIL BAYTOWN REFINERY                                 216934.3002\n",
       "VALERO PORT ARTHUR REFINERY                                  147172.7200\n",
       "TOTAL PETRO CHEMICALS & REFINING USA PORT ARTHUR REFINERY     67000.0000\n",
       "FHR CORPUS CHRISTI WEST PLANT                                 60621.4000\n",
       "SWEENY REFINERY                                               47666.0000\n",
       "Name: Sulfur dioxide, dtype: float64"
      ]
     },
     "execution_count": 27,
     "metadata": {},
     "output_type": "execute_result"
    }
   ],
   "source": [
    "b_df[contaminant].iloc[:5]"
   ]
  },
  {
   "cell_type": "code",
   "execution_count": 28,
   "metadata": {
    "collapsed": false
   },
   "outputs": [
    {
     "data": {
      "text/plain": [
       "0.77254632434723269"
      ]
     },
     "execution_count": 28,
     "metadata": {},
     "output_type": "execute_result"
    }
   ],
   "source": [
    "# We consider only facilities that emit more than 60,000 pounds of contaminant\n",
    "b_df[contaminant].iloc[:4].sum()/b_df[contaminant].sum()"
   ]
  },
  {
   "cell_type": "markdown",
   "metadata": {},
   "source": [
    "4 plants account for 77% of emissions from carbon monoxide."
   ]
  },
  {
   "cell_type": "code",
   "execution_count": 29,
   "metadata": {
    "collapsed": false
   },
   "outputs": [
    {
     "name": "stdout",
     "output_type": "stream",
     "text": [
      "['FLINT HILLS RESOURCES PORT ARTHUR FACILITY', 'CHEVRON PHILLIPS CHEMICAL CEDAR BAYOU PLANT', 'MARATHON PETROLEUM TEXAS CITY REFINERY', 'PASADENA TERMINAL', 'CHOCOLATE BAYOU PLANT', 'CHEVRON PHILLIPS CHEMICAL SWEENY OLD OCEAN FACILITIES', 'FLINT HILLS RESOURCES PORT ARTHUR FACILITY', 'CHEVRON PHILLIPS CHEMICAL CEDAR BAYOU PLANT', 'VALERO PORT ARTHUR REFINERY', 'EQUISTAR CORPUS CHRISTI PLANT', 'CHEVRON PHILLIPS CHEMICAL SWEENY OLD OCEAN FACILITIES', 'CHOCOLATE BAYOU PLANT', 'MARATHON PETROLEUM TEXAS CITY REFINERY', 'EXXON MOBIL BAYTOWN REFINERY', 'VALERO PORT ARTHUR REFINERY', 'TOTAL PETRO CHEMICALS & REFINING USA PORT ARTHUR REFINERY', 'FHR CORPUS CHRISTI WEST PLANT']\n"
     ]
    }
   ],
   "source": [
    "# add the facilities to the list of main emitting facilities\n",
    "most_emitting_facilities += list(b_df[contaminant].iloc[:4].index)\n",
    "print(most_emitting_facilities)"
   ]
  },
  {
   "cell_type": "markdown",
   "metadata": {},
   "source": [
    "### What are the main emitting facilities?"
   ]
  },
  {
   "cell_type": "code",
   "execution_count": 30,
   "metadata": {
    "collapsed": false
   },
   "outputs": [
    {
     "name": "stdout",
     "output_type": "stream",
     "text": [
      "                                                    0\n",
      "0          FLINT HILLS RESOURCES PORT ARTHUR FACILITY\n",
      "1         CHEVRON PHILLIPS CHEMICAL CEDAR BAYOU PLANT\n",
      "2              MARATHON PETROLEUM TEXAS CITY REFINERY\n",
      "3                                   PASADENA TERMINAL\n",
      "4                               CHOCOLATE BAYOU PLANT\n",
      "5   CHEVRON PHILLIPS CHEMICAL SWEENY OLD OCEAN FAC...\n",
      "8                         VALERO PORT ARTHUR REFINERY\n",
      "9                       EQUISTAR CORPUS CHRISTI PLANT\n",
      "13                       EXXON MOBIL BAYTOWN REFINERY\n",
      "15  TOTAL PETRO CHEMICALS & REFINING USA PORT ARTH...\n",
      "16                      FHR CORPUS CHRISTI WEST PLANT\n"
     ]
    }
   ],
   "source": [
    "df_most_emitting_facilities  = pd.DataFrame(most_emitting_facilities)\n",
    "df_most_emitting_facilities.drop_duplicates(inplace = True)\n",
    "print(df_most_emitting_facilities)"
   ]
  },
  {
   "cell_type": "code",
   "execution_count": 31,
   "metadata": {
    "collapsed": false
   },
   "outputs": [],
   "source": [
    "df_most_emitting_facilities.columns = ['Regulated entity name']"
   ]
  },
  {
   "cell_type": "code",
   "execution_count": 32,
   "metadata": {
    "collapsed": false
   },
   "outputs": [
    {
     "data": {
      "text/plain": [
       "11"
      ]
     },
     "execution_count": 32,
     "metadata": {},
     "output_type": "execute_result"
    }
   ],
   "source": [
    "len(df_most_emitting_facilities)"
   ]
  },
  {
   "cell_type": "markdown",
   "metadata": {},
   "source": [
    "11 facilities emit most of the main pollutants (around 70%). Let's check where are these facilities located."
   ]
  },
  {
   "cell_type": "code",
   "execution_count": 33,
   "metadata": {
    "collapsed": false
   },
   "outputs": [],
   "source": [
    "# identify the location of these facilities\n",
    "df_most_emitting_facilities = pd.merge(df_most_emitting_facilities,df[['Regulated entity name','County']].drop_duplicates(), how = 'inner', on = ['Regulated entity name'])"
   ]
  },
  {
   "cell_type": "code",
   "execution_count": 34,
   "metadata": {
    "collapsed": false
   },
   "outputs": [
    {
     "name": "stdout",
     "output_type": "stream",
     "text": [
      "                                Regulated entity name     County\n",
      "4                               CHOCOLATE BAYOU PLANT   BRAZORIA\n",
      "5   CHEVRON PHILLIPS CHEMICAL SWEENY OLD OCEAN FAC...   BRAZORIA\n",
      "2              MARATHON PETROLEUM TEXAS CITY REFINERY  GALVESTON\n",
      "1         CHEVRON PHILLIPS CHEMICAL CEDAR BAYOU PLANT     HARRIS\n",
      "3                                   PASADENA TERMINAL     HARRIS\n",
      "8                        EXXON MOBIL BAYTOWN REFINERY     HARRIS\n",
      "0          FLINT HILLS RESOURCES PORT ARTHUR FACILITY  JEFFERSON\n",
      "6                         VALERO PORT ARTHUR REFINERY  JEFFERSON\n",
      "9   TOTAL PETRO CHEMICALS & REFINING USA PORT ARTH...  JEFFERSON\n",
      "7                       EQUISTAR CORPUS CHRISTI PLANT     NUECES\n",
      "10                      FHR CORPUS CHRISTI WEST PLANT     NUECES\n"
     ]
    }
   ],
   "source": [
    "print(df_most_emitting_facilities.sort_values(by=['County']))"
   ]
  },
  {
   "cell_type": "markdown",
   "metadata": {},
   "source": [
    "The 11 most emitting facilities are located in 5 counties, as summarised in the below map.\n",
    "![title](img/most_emitting_facilities.png)"
   ]
  },
  {
   "cell_type": "markdown",
   "metadata": {},
   "source": [
    "## Contaminant emissions by facility"
   ]
  },
  {
   "cell_type": "code",
   "execution_count": 35,
   "metadata": {
    "collapsed": true
   },
   "outputs": [],
   "source": [
    "# assess quantities per contaminant type and per facility\n",
    "df3 = pd.pivot_table(df, values = 'quantity', index = 'category', columns = 'Regulated entity name',\n",
    "                     aggfunc = 'sum')"
   ]
  },
  {
   "cell_type": "code",
   "execution_count": 36,
   "metadata": {
    "collapsed": false
   },
   "outputs": [
    {
     "data": {
      "application/vnd.plotly.v1+json": {
       "data": [
        {
         "orientation": "h",
         "type": "bar",
         "uid": "77900a92-8d4e-11e9-8308-aae9fe7e348c",
         "x": [
          18385.29,
          11702.8,
          3043.53,
          1589.46,
          1396.92,
          98.76,
          1.78
         ],
         "y": [
          "VOCs, solvents & hydrocarbons",
          "Other material",
          "Particulate Matter",
          "Carbon Monoxide",
          "Propylene and propylene oxide",
          "NOx",
          "Sulfur dioxide"
         ]
        }
       ],
       "layout": {
        "hovermode": "closest",
        "title": "Contaminants - ARKEMA CROSBY PLANT",
        "xaxis": {
         "anchor": "y",
         "domain": [
          0.25,
          1
         ],
         "title": "Quantities (lbs)"
        },
        "yaxis": {
         "anchor": "x",
         "domain": [
          0,
          1
         ]
        }
       }
      },
      "text/html": [
       "<div id=\"98c148bd-9da9-45ed-9675-637d1d8918e5\" style=\"height: 525px; width: 100%;\" class=\"plotly-graph-div\"></div><script type=\"text/javascript\">require([\"plotly\"], function(Plotly) { window.PLOTLYENV=window.PLOTLYENV || {};window.PLOTLYENV.BASE_URL=\"https://plot.ly\";\n",
       "        Plotly.plot(\n",
       "            '98c148bd-9da9-45ed-9675-637d1d8918e5',\n",
       "            [{\"x\": [18385.29, 11702.8, 3043.53, 1589.46, 1396.92, 98.76, 1.78], \"y\": [\"VOCs, solvents & hydrocarbons\", \"Other material\", \"Particulate Matter\", \"Carbon Monoxide\", \"Propylene and propylene oxide\", \"NOx\", \"Sulfur dioxide\"], \"uid\": \"77900a92-8d4e-11e9-8308-aae9fe7e348c\", \"type\": \"bar\", \"orientation\": \"h\"}],\n",
       "            {\"yaxis\": {\"domain\": [0.0, 1.0], \"anchor\": \"x\"}, \"xaxis\": {\"domain\": [0.25, 1.0], \"anchor\": \"y\", \"title\": \"Quantities (lbs)\"}, \"title\": \"Contaminants - ARKEMA CROSBY PLANT\", \"hovermode\": \"closest\"},\n",
       "            {\"showLink\": true, \"linkText\": \"Export to plot.ly\"}\n",
       "        ).then(function () {return Plotly.addFrames('98c148bd-9da9-45ed-9675-637d1d8918e5',{});}).then(function(){Plotly.animate('98c148bd-9da9-45ed-9675-637d1d8918e5');})\n",
       "        });</script>"
      ],
      "text/vnd.plotly.v1+html": [
       "<div id=\"98c148bd-9da9-45ed-9675-637d1d8918e5\" style=\"height: 525px; width: 100%;\" class=\"plotly-graph-div\"></div><script type=\"text/javascript\">require([\"plotly\"], function(Plotly) { window.PLOTLYENV=window.PLOTLYENV || {};window.PLOTLYENV.BASE_URL=\"https://plot.ly\";\n",
       "        Plotly.plot(\n",
       "            '98c148bd-9da9-45ed-9675-637d1d8918e5',\n",
       "            [{\"x\": [18385.29, 11702.8, 3043.53, 1589.46, 1396.92, 98.76, 1.78], \"y\": [\"VOCs, solvents & hydrocarbons\", \"Other material\", \"Particulate Matter\", \"Carbon Monoxide\", \"Propylene and propylene oxide\", \"NOx\", \"Sulfur dioxide\"], \"uid\": \"77900a92-8d4e-11e9-8308-aae9fe7e348c\", \"type\": \"bar\", \"orientation\": \"h\"}],\n",
       "            {\"yaxis\": {\"domain\": [0.0, 1.0], \"anchor\": \"x\"}, \"xaxis\": {\"domain\": [0.25, 1.0], \"anchor\": \"y\", \"title\": \"Quantities (lbs)\"}, \"title\": \"Contaminants - ARKEMA CROSBY PLANT\", \"hovermode\": \"closest\"},\n",
       "            {\"showLink\": true, \"linkText\": \"Export to plot.ly\"}\n",
       "        ).then(function () {return Plotly.addFrames('98c148bd-9da9-45ed-9675-637d1d8918e5',{});}).then(function(){Plotly.animate('98c148bd-9da9-45ed-9675-637d1d8918e5');})\n",
       "        });</script>"
      ]
     },
     "metadata": {},
     "output_type": "display_data"
    }
   ],
   "source": [
    "# draw horizontal bar chart of pollutants emitted by facility\n",
    "# select the facility\n",
    "facility = 'ARKEMA CROSBY PLANT' #df3.columns[0]\n",
    "### --------------------------------------------------------\n",
    "overall_title = \"Contaminants - \"+ facility\n",
    "x_title = \"Quantities (lbs)\"\n",
    "### --------------------------------------------------------\n",
    "# select only emitted contaminants to be displayed\n",
    "b_df = df3[[facility]].dropna().sort_values(by = [facility], ascending = False)\n",
    "### --------------------------------------------------------\n",
    "trace= [go.Bar(\n",
    "        y=b_df.index,\n",
    "        x=b_df[facility],\n",
    "        orientation = 'h'\n",
    "        )]\n",
    "layout = go.Layout(title = overall_title, \n",
    "                   hovermode = 'closest',\n",
    "                   xaxis=dict(dict(title=x_title,\n",
    "                                   domain=[0.25, 1.0], anchor='y1')),\n",
    "                   yaxis=dict(dict(domain=[0.0, 1.0], anchor='x1')))\n",
    "fig = go.Figure(data = trace, layout = layout)\n",
    "pyo.iplot(fig)"
   ]
  },
  {
   "cell_type": "code",
   "execution_count": 37,
   "metadata": {
    "collapsed": true
   },
   "outputs": [],
   "source": [
    "# to create the plot for each facility\n",
    "for facility in df3.columns:\n",
    "#for facility in df3.columns[:3]: #select only the first 3 facilities\n",
    "    ### --------------------------------------------------------\n",
    "    overall_title = \"Contaminants - \"+ facility\n",
    "    x_title = \"Quantities (lbs)\"\n",
    "    export_filename = path+\"../6_communication/plots/by_contaminant_facility_\"+facility+\".html\"\n",
    "    ### --------------------------------------------------------\n",
    "    # select only emitted contaminants to be displayed\n",
    "    b_df = df3[[facility]].dropna().sort_values(by = [facility], ascending = False)\n",
    "    ### --------------------------------------------------------\n",
    "    trace= [go.Bar(\n",
    "            y=b_df.index,\n",
    "            x=b_df[facility],\n",
    "            orientation = 'h'\n",
    "            )]\n",
    "    layout = go.Layout(title = overall_title, \n",
    "                       hovermode = 'closest',\n",
    "                       xaxis=dict(dict(title=x_title,\n",
    "                                       domain=[0.25, 1.0], anchor='y1')),\n",
    "                       yaxis=dict(dict(domain=[0.0, 1.0], anchor='x1')))\n",
    "    fig = go.Figure(data = trace, layout = layout)\n",
    "    pyo.plot(fig,filename =  export_filename)"
   ]
  },
  {
   "cell_type": "markdown",
   "metadata": {
    "collapsed": true
   },
   "source": [
    "# 4. Conclusion\n",
    "We've reviewed and analysed the emissions of contaminants from petrochemical facilities impacted by hurricane Harvey. Although the data had already been scrapped and pre-processed by BuzzFeed News team, the list of contaminants needed some further treatment to be able to extract meaningful insights about the main pollutants emitted. This took a large amount of my time dedicated to this project.\n",
    "\n",
    "With more time available, what could be further addressed includes:\n",
    "* Check levels of Harvey-related emissions with exceedance pollution thresholds.\n",
    "* Compare Harvey-related pollution to the baseline pollution for each type of contaminants.\n",
    "* Assess emissions of the main contaminants against time, as in this study, we focus only on the whole period. We could check for example if emissions were the highest close to Harvey landfall, and were more spread once startups occured. "
   ]
  },
  {
   "cell_type": "code",
   "execution_count": null,
   "metadata": {
    "collapsed": true
   },
   "outputs": [],
   "source": []
  }
 ],
 "metadata": {
  "anaconda-cloud": {},
  "kernelspec": {
   "display_name": "Python [conda root]",
   "language": "python",
   "name": "conda-root-py"
  },
  "language_info": {
   "codemirror_mode": {
    "name": "ipython",
    "version": 3
   },
   "file_extension": ".py",
   "mimetype": "text/x-python",
   "name": "python",
   "nbconvert_exporter": "python",
   "pygments_lexer": "ipython3",
   "version": "3.5.6"
  }
 },
 "nbformat": 4,
 "nbformat_minor": 2
}
