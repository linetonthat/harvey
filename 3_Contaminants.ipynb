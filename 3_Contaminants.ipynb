{
 "cells": [
  {
   "cell_type": "markdown",
   "metadata": {},
   "source": [
    "# 3. Analysis by contaminant\n",
    "In this section, we analyse air pollution by contaminants. "
   ]
  },
  {
   "cell_type": "code",
   "execution_count": null,
   "metadata": {
    "collapsed": true
   },
   "outputs": [],
   "source": [
    "# import libraries\n",
    "import pandas as pd\n",
    "import numpy as np\n",
    "import matplotlib.pyplot as plt\n",
    "\n",
    "import plotly.offline as pyo\n",
    "import plotly.graph_objs as go\n",
    "from plotly import tools\n",
    "import plotly.figure_factory as ff"
   ]
  },
  {
   "cell_type": "code",
   "execution_count": 18,
   "metadata": {
    "collapsed": false
   },
   "outputs": [
    {
     "data": {
      "text/html": [
       "<script>requirejs.config({paths: { 'plotly': ['https://cdn.plot.ly/plotly-latest.min']},});if(!window.Plotly) {{require(['plotly'],function(plotly) {window.Plotly=plotly;});}}</script>"
      ],
      "text/vnd.plotly.v1+html": [
       "<script>requirejs.config({paths: { 'plotly': ['https://cdn.plot.ly/plotly-latest.min']},});if(!window.Plotly) {{require(['plotly'],function(plotly) {window.Plotly=plotly;});}}</script>"
      ]
     },
     "metadata": {},
     "output_type": "display_data"
    }
   ],
   "source": [
    "# display the plotly plots inside the Jupyter notebook\n",
    "pyo.init_notebook_mode(connected=True)"
   ]
  },
  {
   "cell_type": "code",
   "execution_count": 9,
   "metadata": {
    "collapsed": false
   },
   "outputs": [
    {
     "data": {
      "text/html": [
       "<div>\n",
       "<style scoped>\n",
       "    .dataframe tbody tr th:only-of-type {\n",
       "        vertical-align: middle;\n",
       "    }\n",
       "\n",
       "    .dataframe tbody tr th {\n",
       "        vertical-align: top;\n",
       "    }\n",
       "\n",
       "    .dataframe thead th {\n",
       "        text-align: right;\n",
       "    }\n",
       "</style>\n",
       "<table border=\"1\" class=\"dataframe\">\n",
       "  <thead>\n",
       "    <tr style=\"text-align: right;\">\n",
       "      <th></th>\n",
       "      <th>report_id</th>\n",
       "      <th>Event began</th>\n",
       "      <th>Event ended</th>\n",
       "      <th>Regulated entity RN number</th>\n",
       "      <th>Regulated entity name</th>\n",
       "      <th>Type(s) of air emissions event</th>\n",
       "      <th>County</th>\n",
       "      <th>contaminant</th>\n",
       "      <th>authorization</th>\n",
       "      <th>limit</th>\n",
       "      <th>quantity</th>\n",
       "      <th>units</th>\n",
       "    </tr>\n",
       "  </thead>\n",
       "  <tbody>\n",
       "    <tr>\n",
       "      <th>0</th>\n",
       "      <td>266261</td>\n",
       "      <td>2017-08-27 00:00:00</td>\n",
       "      <td>2017-09-06 00:00:00</td>\n",
       "      <td>RN103919817</td>\n",
       "      <td>CHEVRON PHILLIPS CHEMICAL CEDAR BAYOU PLANT</td>\n",
       "      <td>AIR SHUTDOWN</td>\n",
       "      <td>HARRIS</td>\n",
       "      <td>Carbon Monoxide</td>\n",
       "      <td>1504A</td>\n",
       "      <td>1892.04 LBS/HR</td>\n",
       "      <td>244040.0</td>\n",
       "      <td>lbs (est.)</td>\n",
       "    </tr>\n",
       "    <tr>\n",
       "      <th>1</th>\n",
       "      <td>266378</td>\n",
       "      <td>2017-08-29 11:50:00</td>\n",
       "      <td>2017-09-01 11:50:00</td>\n",
       "      <td>RN100217389</td>\n",
       "      <td>FLINT HILLS RESOURCES PORT ARTHUR FACILITY</td>\n",
       "      <td>AIR SHUTDOWN</td>\n",
       "      <td>JEFFERSON</td>\n",
       "      <td>Carbon Monoxide</td>\n",
       "      <td>No specific Authorization</td>\n",
       "      <td>0.0</td>\n",
       "      <td>240000.0</td>\n",
       "      <td>lbs (est.)</td>\n",
       "    </tr>\n",
       "    <tr>\n",
       "      <th>2</th>\n",
       "      <td>267078</td>\n",
       "      <td>2017-09-08 08:00:00</td>\n",
       "      <td>2017-09-22 08:00:00</td>\n",
       "      <td>RN100217389</td>\n",
       "      <td>FLINT HILLS RESOURCES PORT ARTHUR FACILITY</td>\n",
       "      <td>AIR STARTUP</td>\n",
       "      <td>JEFFERSON</td>\n",
       "      <td>Ethylene (gaseous)</td>\n",
       "      <td>No specific authorization</td>\n",
       "      <td>0.0</td>\n",
       "      <td>150000.0</td>\n",
       "      <td>lbs (est.)</td>\n",
       "    </tr>\n",
       "    <tr>\n",
       "      <th>3</th>\n",
       "      <td>267078</td>\n",
       "      <td>2017-09-08 08:00:00</td>\n",
       "      <td>2017-09-22 08:00:00</td>\n",
       "      <td>RN100217389</td>\n",
       "      <td>FLINT HILLS RESOURCES PORT ARTHUR FACILITY</td>\n",
       "      <td>AIR STARTUP</td>\n",
       "      <td>JEFFERSON</td>\n",
       "      <td>Carbon Monoxide</td>\n",
       "      <td>No specific authorization</td>\n",
       "      <td>0.0</td>\n",
       "      <td>150000.0</td>\n",
       "      <td>lbs (est.)</td>\n",
       "    </tr>\n",
       "    <tr>\n",
       "      <th>4</th>\n",
       "      <td>266566</td>\n",
       "      <td>2017-09-01 05:00:00</td>\n",
       "      <td>2017-10-01 05:00:00</td>\n",
       "      <td>RN100221662</td>\n",
       "      <td>EQUISTAR CORPUS CHRISTI PLANT</td>\n",
       "      <td>AIR STARTUP</td>\n",
       "      <td>NUECES</td>\n",
       "      <td>Carbon Monoxide</td>\n",
       "      <td>Permit 83864</td>\n",
       "      <td>721.67 LBS/HR</td>\n",
       "      <td>121000.0</td>\n",
       "      <td>lbs (est.)</td>\n",
       "    </tr>\n",
       "  </tbody>\n",
       "</table>\n",
       "</div>"
      ],
      "text/plain": [
       "   report_id          Event began          Event ended  \\\n",
       "0     266261  2017-08-27 00:00:00  2017-09-06 00:00:00   \n",
       "1     266378  2017-08-29 11:50:00  2017-09-01 11:50:00   \n",
       "2     267078  2017-09-08 08:00:00  2017-09-22 08:00:00   \n",
       "3     267078  2017-09-08 08:00:00  2017-09-22 08:00:00   \n",
       "4     266566  2017-09-01 05:00:00  2017-10-01 05:00:00   \n",
       "\n",
       "  Regulated entity RN number                        Regulated entity name  \\\n",
       "0                RN103919817  CHEVRON PHILLIPS CHEMICAL CEDAR BAYOU PLANT   \n",
       "1                RN100217389   FLINT HILLS RESOURCES PORT ARTHUR FACILITY   \n",
       "2                RN100217389   FLINT HILLS RESOURCES PORT ARTHUR FACILITY   \n",
       "3                RN100217389   FLINT HILLS RESOURCES PORT ARTHUR FACILITY   \n",
       "4                RN100221662                EQUISTAR CORPUS CHRISTI PLANT   \n",
       "\n",
       "  Type(s) of air emissions event     County         contaminant  \\\n",
       "0                   AIR SHUTDOWN     HARRIS     Carbon Monoxide   \n",
       "1                   AIR SHUTDOWN  JEFFERSON     Carbon Monoxide   \n",
       "2                    AIR STARTUP  JEFFERSON  Ethylene (gaseous)   \n",
       "3                    AIR STARTUP  JEFFERSON     Carbon Monoxide   \n",
       "4                    AIR STARTUP     NUECES     Carbon Monoxide   \n",
       "\n",
       "               authorization           limit  quantity       units  \n",
       "0                      1504A  1892.04 LBS/HR  244040.0  lbs (est.)  \n",
       "1  No specific Authorization             0.0  240000.0  lbs (est.)  \n",
       "2  No specific authorization             0.0  150000.0  lbs (est.)  \n",
       "3  No specific authorization             0.0  150000.0  lbs (est.)  \n",
       "4               Permit 83864   721.67 LBS/HR  121000.0  lbs (est.)  "
      ]
     },
     "execution_count": 9,
     "metadata": {},
     "output_type": "execute_result"
    }
   ],
   "source": [
    "# load data\n",
    "path = \"/Users/linetonthat/ds_training/projects/2019-06_Harvey_pollution/3_treated_data/\"\n",
    "df = pd.read_csv(path+\"largest-emissions-in-lbs.csv\")\n",
    "df.head()"
   ]
  },
  {
   "cell_type": "markdown",
   "metadata": {},
   "source": [
    "## Revised and categorised list of contaminants\n",
    "As the designation of contaminants was not consistent in the dataset, I've reviewed it to provide a more consistent designation when relevant, as well as categories of pollutants. Not being an expert in air pollution by petrochemical industry, I've asked a friend who is to help me with this task!\n",
    "\n",
    "-> The result is available in the \"list_of_contaminants_v2.csv\" file."
   ]
  },
  {
   "cell_type": "code",
   "execution_count": 10,
   "metadata": {
    "collapsed": false
   },
   "outputs": [
    {
     "data": {
      "text/html": [
       "<div>\n",
       "<style scoped>\n",
       "    .dataframe tbody tr th:only-of-type {\n",
       "        vertical-align: middle;\n",
       "    }\n",
       "\n",
       "    .dataframe tbody tr th {\n",
       "        vertical-align: top;\n",
       "    }\n",
       "\n",
       "    .dataframe thead th {\n",
       "        text-align: right;\n",
       "    }\n",
       "</style>\n",
       "<table border=\"1\" class=\"dataframe\">\n",
       "  <thead>\n",
       "    <tr style=\"text-align: right;\">\n",
       "      <th></th>\n",
       "      <th>ID</th>\n",
       "      <th>contaminant</th>\n",
       "      <th>consistent_designation</th>\n",
       "      <th>carbon no (for hydrocarbon)</th>\n",
       "      <th>category</th>\n",
       "    </tr>\n",
       "  </thead>\n",
       "  <tbody>\n",
       "    <tr>\n",
       "      <th>0</th>\n",
       "      <td>25</td>\n",
       "      <td>Butane</td>\n",
       "      <td>Butanes</td>\n",
       "      <td>C4</td>\n",
       "      <td>Hydrocarbons</td>\n",
       "    </tr>\n",
       "    <tr>\n",
       "      <th>1</th>\n",
       "      <td>26</td>\n",
       "      <td>Butane, N-</td>\n",
       "      <td>Butanes</td>\n",
       "      <td>C4</td>\n",
       "      <td>Hydrocarbons</td>\n",
       "    </tr>\n",
       "    <tr>\n",
       "      <th>2</th>\n",
       "      <td>27</td>\n",
       "      <td>Butane, i</td>\n",
       "      <td>Butanes</td>\n",
       "      <td>C4</td>\n",
       "      <td>Hydrocarbons</td>\n",
       "    </tr>\n",
       "    <tr>\n",
       "      <th>3</th>\n",
       "      <td>28</td>\n",
       "      <td>Butanes</td>\n",
       "      <td>Butanes</td>\n",
       "      <td>C4</td>\n",
       "      <td>Hydrocarbons</td>\n",
       "    </tr>\n",
       "    <tr>\n",
       "      <th>4</th>\n",
       "      <td>156</td>\n",
       "      <td>n-butane</td>\n",
       "      <td>Butanes</td>\n",
       "      <td>C4</td>\n",
       "      <td>Hydrocarbons</td>\n",
       "    </tr>\n",
       "  </tbody>\n",
       "</table>\n",
       "</div>"
      ],
      "text/plain": [
       "    ID contaminant consistent_designation carbon no (for hydrocarbon)  \\\n",
       "0   25      Butane                Butanes                          C4   \n",
       "1   26  Butane, N-                Butanes                          C4   \n",
       "2   27   Butane, i                Butanes                          C4   \n",
       "3   28     Butanes                Butanes                          C4   \n",
       "4  156    n-butane                Butanes                          C4   \n",
       "\n",
       "       category  \n",
       "0  Hydrocarbons  \n",
       "1  Hydrocarbons  \n",
       "2  Hydrocarbons  \n",
       "3  Hydrocarbons  \n",
       "4  Hydrocarbons  "
      ]
     },
     "execution_count": 10,
     "metadata": {},
     "output_type": "execute_result"
    }
   ],
   "source": [
    "# load categorised list of contaminants\n",
    "df_conta = pd.read_csv(path+\"../4_analyses/contaminants/list_of_contaminants_v2.csv\", sep = \";\")\n",
    "drop_question = lambda x: x.replace(\"?\",'')\n",
    "df_conta['category'] = df_conta['category'].apply(drop_question)\n",
    "df_conta.head()"
   ]
  },
  {
   "cell_type": "code",
   "execution_count": 11,
   "metadata": {
    "collapsed": false
   },
   "outputs": [
    {
     "data": {
      "text/html": [
       "<div>\n",
       "<style scoped>\n",
       "    .dataframe tbody tr th:only-of-type {\n",
       "        vertical-align: middle;\n",
       "    }\n",
       "\n",
       "    .dataframe tbody tr th {\n",
       "        vertical-align: top;\n",
       "    }\n",
       "\n",
       "    .dataframe thead th {\n",
       "        text-align: right;\n",
       "    }\n",
       "</style>\n",
       "<table border=\"1\" class=\"dataframe\">\n",
       "  <thead>\n",
       "    <tr style=\"text-align: right;\">\n",
       "      <th></th>\n",
       "      <th>report_id</th>\n",
       "      <th>Event began</th>\n",
       "      <th>Event ended</th>\n",
       "      <th>Regulated entity RN number</th>\n",
       "      <th>Regulated entity name</th>\n",
       "      <th>Type(s) of air emissions event</th>\n",
       "      <th>County</th>\n",
       "      <th>contaminant</th>\n",
       "      <th>authorization</th>\n",
       "      <th>limit</th>\n",
       "      <th>quantity</th>\n",
       "      <th>units</th>\n",
       "      <th>category</th>\n",
       "    </tr>\n",
       "  </thead>\n",
       "  <tbody>\n",
       "    <tr>\n",
       "      <th>1450</th>\n",
       "      <td>266269</td>\n",
       "      <td>2017-08-27 10:45:00</td>\n",
       "      <td>2017-09-07 10:45:00</td>\n",
       "      <td>RN100224815</td>\n",
       "      <td>PASADENA TERMINAL</td>\n",
       "      <td>EMISSIONS EVENT</td>\n",
       "      <td>HARRIS</td>\n",
       "      <td>t-octene-2</td>\n",
       "      <td>NSR 5171</td>\n",
       "      <td>0.0</td>\n",
       "      <td>0.9473</td>\n",
       "      <td>lbs (est.)</td>\n",
       "      <td>Hydrocarbons</td>\n",
       "    </tr>\n",
       "    <tr>\n",
       "      <th>1451</th>\n",
       "      <td>266556</td>\n",
       "      <td>2017-08-30 08:00:00</td>\n",
       "      <td>2017-08-31 20:00:00</td>\n",
       "      <td>RN100224815</td>\n",
       "      <td>PASADENA TERMINAL</td>\n",
       "      <td>EMISSIONS EVENT</td>\n",
       "      <td>HARRIS</td>\n",
       "      <td>t-octene-2</td>\n",
       "      <td>NSR 5171</td>\n",
       "      <td>0.0</td>\n",
       "      <td>0.1510</td>\n",
       "      <td>lbs (est.)</td>\n",
       "      <td>Hydrocarbons</td>\n",
       "    </tr>\n",
       "    <tr>\n",
       "      <th>1452</th>\n",
       "      <td>266269</td>\n",
       "      <td>2017-08-27 10:45:00</td>\n",
       "      <td>2017-09-07 10:45:00</td>\n",
       "      <td>RN100224815</td>\n",
       "      <td>PASADENA TERMINAL</td>\n",
       "      <td>EMISSIONS EVENT</td>\n",
       "      <td>HARRIS</td>\n",
       "      <td>2-methylnaphthalene</td>\n",
       "      <td>NSR 5171</td>\n",
       "      <td>0.0</td>\n",
       "      <td>0.2932</td>\n",
       "      <td>lbs (est.)</td>\n",
       "      <td>Hydrocarbons</td>\n",
       "    </tr>\n",
       "    <tr>\n",
       "      <th>1453</th>\n",
       "      <td>266556</td>\n",
       "      <td>2017-08-30 08:00:00</td>\n",
       "      <td>2017-08-31 20:00:00</td>\n",
       "      <td>RN100224815</td>\n",
       "      <td>PASADENA TERMINAL</td>\n",
       "      <td>EMISSIONS EVENT</td>\n",
       "      <td>HARRIS</td>\n",
       "      <td>2-methylnaphthalene</td>\n",
       "      <td>NSR 5171</td>\n",
       "      <td>0.0</td>\n",
       "      <td>0.0467</td>\n",
       "      <td>lbs (est.)</td>\n",
       "      <td>Hydrocarbons</td>\n",
       "    </tr>\n",
       "    <tr>\n",
       "      <th>1454</th>\n",
       "      <td>266116</td>\n",
       "      <td>2017-09-04 07:49:00</td>\n",
       "      <td>2017-09-04 12:21:00</td>\n",
       "      <td>RN100218973</td>\n",
       "      <td>FORMOSA POINT COMFORT PLANT</td>\n",
       "      <td>AIR STARTUP</td>\n",
       "      <td>CALHOUN</td>\n",
       "      <td>Ethyl mercaptan</td>\n",
       "      <td>19168/PSDTX1226</td>\n",
       "      <td>761.65 LBS/HR</td>\n",
       "      <td>0.0200</td>\n",
       "      <td>lbs (est.)</td>\n",
       "      <td>Organosulfur compounds</td>\n",
       "    </tr>\n",
       "  </tbody>\n",
       "</table>\n",
       "</div>"
      ],
      "text/plain": [
       "      report_id          Event began          Event ended  \\\n",
       "1450     266269  2017-08-27 10:45:00  2017-09-07 10:45:00   \n",
       "1451     266556  2017-08-30 08:00:00  2017-08-31 20:00:00   \n",
       "1452     266269  2017-08-27 10:45:00  2017-09-07 10:45:00   \n",
       "1453     266556  2017-08-30 08:00:00  2017-08-31 20:00:00   \n",
       "1454     266116  2017-09-04 07:49:00  2017-09-04 12:21:00   \n",
       "\n",
       "     Regulated entity RN number        Regulated entity name  \\\n",
       "1450                RN100224815            PASADENA TERMINAL   \n",
       "1451                RN100224815            PASADENA TERMINAL   \n",
       "1452                RN100224815            PASADENA TERMINAL   \n",
       "1453                RN100224815            PASADENA TERMINAL   \n",
       "1454                RN100218973  FORMOSA POINT COMFORT PLANT   \n",
       "\n",
       "     Type(s) of air emissions event   County          contaminant  \\\n",
       "1450                EMISSIONS EVENT   HARRIS           t-octene-2   \n",
       "1451                EMISSIONS EVENT   HARRIS           t-octene-2   \n",
       "1452                EMISSIONS EVENT   HARRIS  2-methylnaphthalene   \n",
       "1453                EMISSIONS EVENT   HARRIS  2-methylnaphthalene   \n",
       "1454                    AIR STARTUP  CALHOUN      Ethyl mercaptan   \n",
       "\n",
       "        authorization          limit  quantity       units  \\\n",
       "1450         NSR 5171            0.0    0.9473  lbs (est.)   \n",
       "1451         NSR 5171            0.0    0.1510  lbs (est.)   \n",
       "1452         NSR 5171            0.0    0.2932  lbs (est.)   \n",
       "1453         NSR 5171            0.0    0.0467  lbs (est.)   \n",
       "1454  19168/PSDTX1226  761.65 LBS/HR    0.0200  lbs (est.)   \n",
       "\n",
       "                    category  \n",
       "1450            Hydrocarbons  \n",
       "1451            Hydrocarbons  \n",
       "1452            Hydrocarbons  \n",
       "1453            Hydrocarbons  \n",
       "1454  Organosulfur compounds  "
      ]
     },
     "execution_count": 11,
     "metadata": {},
     "output_type": "execute_result"
    }
   ],
   "source": [
    "# add the category column to the main dataframe\n",
    "df = pd.merge(df,df_conta[['contaminant','category']], on = ['contaminant'])\n",
    "df.tail()"
   ]
  },
  {
   "cell_type": "code",
   "execution_count": 12,
   "metadata": {
    "collapsed": false
   },
   "outputs": [
    {
     "data": {
      "text/plain": [
       "20"
      ]
     },
     "execution_count": 12,
     "metadata": {},
     "output_type": "execute_result"
    }
   ],
   "source": [
    "df['category'].nunique()"
   ]
  },
  {
   "cell_type": "code",
   "execution_count": 13,
   "metadata": {
    "collapsed": false
   },
   "outputs": [
    {
     "data": {
      "text/plain": [
       "array(['Carbon Monoxide', 'Hydrocarbons', 'Sulfur dioxide', 'VOCs', 'TBD',\n",
       "       'Particulate Matter', 'NOx', 'Methane', 'solvant', 'Mineral Spirit',\n",
       "       'Hydrogen', 'Hydrogen Sulfide', 'Ammonia', 'Chlorofluorocarbons',\n",
       "       'Organosulfur compounds', 'Hydrogen cyanide', 'Opacity',\n",
       "       'Other material', 'Heavy metals', 'Carbon Dioxide'], dtype=object)"
      ]
     },
     "execution_count": 13,
     "metadata": {},
     "output_type": "execute_result"
    }
   ],
   "source": [
    "df['category'].unique()"
   ]
  },
  {
   "cell_type": "markdown",
   "metadata": {},
   "source": [
    "## Overall contaminant emissions"
   ]
  },
  {
   "cell_type": "code",
   "execution_count": 15,
   "metadata": {
    "collapsed": false
   },
   "outputs": [
    {
     "name": "stdout",
     "output_type": "stream",
     "text": [
      "                            quantity\n",
      "category                            \n",
      "Carbon Monoxide         1.993716e+06\n",
      "Hydrocarbons            1.611702e+06\n",
      "Sulfur dioxide          6.365035e+05\n",
      "NOx                     4.226846e+05\n",
      "VOCs                    2.768571e+05\n",
      "TBD                     2.512821e+05\n",
      "Methane                 9.600887e+04\n",
      "Particulate Matter      8.626717e+04\n",
      "solvant                 1.682786e+04\n",
      "Mineral Spirit          1.117539e+04\n",
      "Hydrogen Sulfide        9.303650e+03\n",
      "Hydrogen                5.130230e+03\n",
      "Ammonia                 1.716100e+03\n",
      "Chlorofluorocarbons     4.000000e+02\n",
      "Organosulfur compounds  2.000200e+02\n",
      "Hydrogen cyanide        1.130000e+02\n",
      "Opacity                 8.480000e+00\n",
      "Other material          4.000000e+00\n",
      "Heavy metals            1.203000e+00\n",
      "Carbon Dioxide          1.010000e+00\n"
     ]
    }
   ],
   "source": [
    "# assess quantities per contaminant type\n",
    "df2 = df.groupby(by=['category'])[['quantity']].sum()\n",
    "df2.columns = ['quantity']\n",
    "df2.sort_values(by = ['quantity'], ascending = False, inplace = True)\n",
    "print(df2)"
   ]
  },
  {
   "cell_type": "code",
   "execution_count": 22,
   "metadata": {
    "collapsed": false
   },
   "outputs": [
    {
     "data": {
      "application/vnd.plotly.v1+json": {
       "data": [
        {
         "orientation": "h",
         "type": "bar",
         "uid": "21e16452-8864-11e9-821d-aae9fe7e348c",
         "x": [
          1993715.7522999998,
          1611702.464400001,
          636503.4751999999,
          422684.5522999999,
          276857.0881,
          251282.0915,
          96008.87000000001,
          86267.17300000001,
          16827.8645,
          11175.39,
          9303.650200000002,
          5130.2300000000005,
          1716.1,
          400,
          200.02,
          113,
          8.48,
          4,
          1.203,
          1.01
         ],
         "y": [
          "Carbon Monoxide",
          "Hydrocarbons",
          "Sulfur dioxide",
          "NOx",
          "VOCs",
          "TBD",
          "Methane",
          "Particulate Matter",
          "solvant",
          "Mineral Spirit",
          "Hydrogen Sulfide",
          "Hydrogen",
          "Ammonia",
          "Chlorofluorocarbons",
          "Organosulfur compounds",
          "Hydrogen cyanide",
          "Opacity",
          "Other material",
          "Heavy metals",
          "Carbon Dioxide"
         ]
        }
       ],
       "layout": {
        "hovermode": "closest",
        "title": "Harvey-related emission from the chemical plants",
        "xaxis": {
         "anchor": "y",
         "domain": [
          0.25,
          1
         ],
         "title": "Quantities (lbs)"
        },
        "yaxis": {
         "anchor": "x",
         "domain": [
          0,
          1
         ]
        }
       }
      },
      "text/html": [
       "<div id=\"b019be14-4709-41dd-b3fb-6fb18ea2700f\" style=\"height: 525px; width: 100%;\" class=\"plotly-graph-div\"></div><script type=\"text/javascript\">require([\"plotly\"], function(Plotly) { window.PLOTLYENV=window.PLOTLYENV || {};window.PLOTLYENV.BASE_URL=\"https://plot.ly\";\n",
       "        Plotly.plot(\n",
       "            'b019be14-4709-41dd-b3fb-6fb18ea2700f',\n",
       "            [{\"y\": [\"Carbon Monoxide\", \"Hydrocarbons\", \"Sulfur dioxide\", \"NOx\", \"VOCs\", \"TBD\", \"Methane\", \"Particulate Matter\", \"solvant\", \"Mineral Spirit\", \"Hydrogen Sulfide\", \"Hydrogen\", \"Ammonia\", \"Chlorofluorocarbons\", \"Organosulfur compounds\", \"Hydrogen cyanide\", \"Opacity\", \"Other material\", \"Heavy metals\", \"Carbon Dioxide\"], \"orientation\": \"h\", \"x\": [1993715.7522999998, 1611702.464400001, 636503.4751999999, 422684.5522999999, 276857.0881, 251282.0915, 96008.87000000001, 86267.17300000001, 16827.8645, 11175.39, 9303.650200000002, 5130.2300000000005, 1716.1, 400.0, 200.02, 113.0, 8.48, 4.0, 1.203, 1.01], \"type\": \"bar\", \"uid\": \"21e16452-8864-11e9-821d-aae9fe7e348c\"}],\n",
       "            {\"title\": \"Harvey-related emission from the chemical plants\", \"xaxis\": {\"title\": \"Quantities (lbs)\", \"domain\": [0.25, 1.0], \"anchor\": \"y\"}, \"yaxis\": {\"domain\": [0.0, 1.0], \"anchor\": \"x\"}, \"hovermode\": \"closest\"},\n",
       "            {\"linkText\": \"Export to plot.ly\", \"showLink\": true}\n",
       "        ).then(function () {return Plotly.addFrames('b019be14-4709-41dd-b3fb-6fb18ea2700f',{});}).then(function(){Plotly.animate('b019be14-4709-41dd-b3fb-6fb18ea2700f');})\n",
       "        });</script>"
      ],
      "text/vnd.plotly.v1+html": [
       "<div id=\"b019be14-4709-41dd-b3fb-6fb18ea2700f\" style=\"height: 525px; width: 100%;\" class=\"plotly-graph-div\"></div><script type=\"text/javascript\">require([\"plotly\"], function(Plotly) { window.PLOTLYENV=window.PLOTLYENV || {};window.PLOTLYENV.BASE_URL=\"https://plot.ly\";\n",
       "        Plotly.plot(\n",
       "            'b019be14-4709-41dd-b3fb-6fb18ea2700f',\n",
       "            [{\"y\": [\"Carbon Monoxide\", \"Hydrocarbons\", \"Sulfur dioxide\", \"NOx\", \"VOCs\", \"TBD\", \"Methane\", \"Particulate Matter\", \"solvant\", \"Mineral Spirit\", \"Hydrogen Sulfide\", \"Hydrogen\", \"Ammonia\", \"Chlorofluorocarbons\", \"Organosulfur compounds\", \"Hydrogen cyanide\", \"Opacity\", \"Other material\", \"Heavy metals\", \"Carbon Dioxide\"], \"orientation\": \"h\", \"x\": [1993715.7522999998, 1611702.464400001, 636503.4751999999, 422684.5522999999, 276857.0881, 251282.0915, 96008.87000000001, 86267.17300000001, 16827.8645, 11175.39, 9303.650200000002, 5130.2300000000005, 1716.1, 400.0, 200.02, 113.0, 8.48, 4.0, 1.203, 1.01], \"type\": \"bar\", \"uid\": \"21e16452-8864-11e9-821d-aae9fe7e348c\"}],\n",
       "            {\"title\": \"Harvey-related emission from the chemical plants\", \"xaxis\": {\"title\": \"Quantities (lbs)\", \"domain\": [0.25, 1.0], \"anchor\": \"y\"}, \"yaxis\": {\"domain\": [0.0, 1.0], \"anchor\": \"x\"}, \"hovermode\": \"closest\"},\n",
       "            {\"linkText\": \"Export to plot.ly\", \"showLink\": true}\n",
       "        ).then(function () {return Plotly.addFrames('b019be14-4709-41dd-b3fb-6fb18ea2700f',{});}).then(function(){Plotly.animate('b019be14-4709-41dd-b3fb-6fb18ea2700f');})\n",
       "        });</script>"
      ]
     },
     "metadata": {},
     "output_type": "display_data"
    }
   ],
   "source": [
    "# draw horizontal bar chart of main pollutants emitted\n",
    "overall_title = \"Harvey-related emission from the chemical plants\"\n",
    "x_title = \"Quantities (lbs)\"\n",
    "### --------------------------------------------------------\n",
    "\n",
    "trace= [go.Bar(\n",
    "        y=df2.index,\n",
    "        x=df2['quantity'],\n",
    "        orientation = 'h'\n",
    "        )]\n",
    "layout = go.Layout(title = overall_title, \n",
    "                   hovermode = 'closest',\n",
    "                   xaxis=dict(dict(title=x_title,\n",
    "                                   domain=[0.25, 1.0], anchor='y1')),\n",
    "                   yaxis=dict(dict(domain=[0.0, 1.0], anchor='x1')))\n",
    "fig = go.Figure(data = trace, layout = layout)\n",
    "pyo.iplot(fig)"
   ]
  },
  {
   "cell_type": "markdown",
   "metadata": {},
   "source": [
    "Carbon monoxide is the most emitted contaminant with approximately 2 million pounds emitted, followed by hydrocarbons with 1.6 million pounds emitted, and sulfur dioxide with 0.6 million pounds emitted.\n",
    "\n",
    "<color = orange> XX  comparison with normal levels</colour>\n",
    "## Contaminant emissions by facility"
   ]
  },
  {
   "cell_type": "code",
   "execution_count": 23,
   "metadata": {
    "collapsed": true
   },
   "outputs": [],
   "source": [
    "# assess quantities per contaminant type and per facility\n",
    "df3 = pd.pivot_table(df, values = 'quantity', index = 'category', columns = 'Regulated entity name',\n",
    "                     aggfunc = 'sum')"
   ]
  },
  {
   "cell_type": "code",
   "execution_count": 24,
   "metadata": {
    "collapsed": false
   },
   "outputs": [
    {
     "data": {
      "application/vnd.plotly.v1+json": {
       "data": [
        {
         "orientation": "h",
         "type": "bar",
         "uid": "b6c4f688-8864-11e9-8907-aae9fe7e348c",
         "x": [
          11175.39,
          7065.49,
          6864.9000000000015,
          4718.18,
          3043.53,
          1661.05,
          1589.46,
          98.76,
          1.78
         ],
         "y": [
          "Mineral Spirit",
          "VOCs",
          "Hydrocarbons",
          "TBD",
          "Particulate Matter",
          "solvant",
          "Carbon Monoxide",
          "NOx",
          "Sulfur dioxide"
         ]
        }
       ],
       "layout": {
        "hovermode": "closest",
        "title": "Contaminants - ARKEMA CROSBY PLANT",
        "xaxis": {
         "anchor": "y",
         "domain": [
          0.25,
          1
         ],
         "title": "Quantities (lbs)"
        },
        "yaxis": {
         "anchor": "x",
         "domain": [
          0,
          1
         ]
        }
       }
      },
      "text/html": [
       "<div id=\"5745d592-58e4-4a67-9360-81bf95a81b0d\" style=\"height: 525px; width: 100%;\" class=\"plotly-graph-div\"></div><script type=\"text/javascript\">require([\"plotly\"], function(Plotly) { window.PLOTLYENV=window.PLOTLYENV || {};window.PLOTLYENV.BASE_URL=\"https://plot.ly\";\n",
       "        Plotly.plot(\n",
       "            '5745d592-58e4-4a67-9360-81bf95a81b0d',\n",
       "            [{\"y\": [\"Mineral Spirit\", \"VOCs\", \"Hydrocarbons\", \"TBD\", \"Particulate Matter\", \"solvant\", \"Carbon Monoxide\", \"NOx\", \"Sulfur dioxide\"], \"orientation\": \"h\", \"x\": [11175.39, 7065.49, 6864.9000000000015, 4718.18, 3043.53, 1661.05, 1589.46, 98.76, 1.78], \"type\": \"bar\", \"uid\": \"b6c4f688-8864-11e9-8907-aae9fe7e348c\"}],\n",
       "            {\"title\": \"Contaminants - ARKEMA CROSBY PLANT\", \"xaxis\": {\"title\": \"Quantities (lbs)\", \"domain\": [0.25, 1.0], \"anchor\": \"y\"}, \"yaxis\": {\"domain\": [0.0, 1.0], \"anchor\": \"x\"}, \"hovermode\": \"closest\"},\n",
       "            {\"linkText\": \"Export to plot.ly\", \"showLink\": true}\n",
       "        ).then(function () {return Plotly.addFrames('5745d592-58e4-4a67-9360-81bf95a81b0d',{});}).then(function(){Plotly.animate('5745d592-58e4-4a67-9360-81bf95a81b0d');})\n",
       "        });</script>"
      ],
      "text/vnd.plotly.v1+html": [
       "<div id=\"5745d592-58e4-4a67-9360-81bf95a81b0d\" style=\"height: 525px; width: 100%;\" class=\"plotly-graph-div\"></div><script type=\"text/javascript\">require([\"plotly\"], function(Plotly) { window.PLOTLYENV=window.PLOTLYENV || {};window.PLOTLYENV.BASE_URL=\"https://plot.ly\";\n",
       "        Plotly.plot(\n",
       "            '5745d592-58e4-4a67-9360-81bf95a81b0d',\n",
       "            [{\"y\": [\"Mineral Spirit\", \"VOCs\", \"Hydrocarbons\", \"TBD\", \"Particulate Matter\", \"solvant\", \"Carbon Monoxide\", \"NOx\", \"Sulfur dioxide\"], \"orientation\": \"h\", \"x\": [11175.39, 7065.49, 6864.9000000000015, 4718.18, 3043.53, 1661.05, 1589.46, 98.76, 1.78], \"type\": \"bar\", \"uid\": \"b6c4f688-8864-11e9-8907-aae9fe7e348c\"}],\n",
       "            {\"title\": \"Contaminants - ARKEMA CROSBY PLANT\", \"xaxis\": {\"title\": \"Quantities (lbs)\", \"domain\": [0.25, 1.0], \"anchor\": \"y\"}, \"yaxis\": {\"domain\": [0.0, 1.0], \"anchor\": \"x\"}, \"hovermode\": \"closest\"},\n",
       "            {\"linkText\": \"Export to plot.ly\", \"showLink\": true}\n",
       "        ).then(function () {return Plotly.addFrames('5745d592-58e4-4a67-9360-81bf95a81b0d',{});}).then(function(){Plotly.animate('5745d592-58e4-4a67-9360-81bf95a81b0d');})\n",
       "        });</script>"
      ]
     },
     "metadata": {},
     "output_type": "display_data"
    }
   ],
   "source": [
    "# draw horizontal bar chart of pollutants emitted by facility\n",
    "# select the facility\n",
    "facility = 'ARKEMA CROSBY PLANT' #df3.columns[0]\n",
    "### --------------------------------------------------------\n",
    "overall_title = \"Contaminants - \"+ facility\n",
    "x_title = \"Quantities (lbs)\"\n",
    "### --------------------------------------------------------\n",
    "# select only emitted contaminants to be displayed\n",
    "b_df = df3[[facility]].dropna().sort_values(by = [facility], ascending = False)\n",
    "### --------------------------------------------------------\n",
    "trace= [go.Bar(\n",
    "        y=b_df.index,\n",
    "        x=b_df[facility],\n",
    "        orientation = 'h'\n",
    "        )]\n",
    "layout = go.Layout(title = overall_title, \n",
    "                   hovermode = 'closest',\n",
    "                   xaxis=dict(dict(title=x_title,\n",
    "                                   domain=[0.25, 1.0], anchor='y1')),\n",
    "                   yaxis=dict(dict(domain=[0.0, 1.0], anchor='x1')))\n",
    "fig = go.Figure(data = trace, layout = layout)\n",
    "pyo.iplot(fig)"
   ]
  },
  {
   "cell_type": "markdown",
   "metadata": {},
   "source": [
    "## Contaminant emissions by county"
   ]
  },
  {
   "cell_type": "code",
   "execution_count": 25,
   "metadata": {
    "collapsed": true
   },
   "outputs": [],
   "source": [
    "# assess quantities per contaminant type and per county\n",
    "df4 = pd.pivot_table(df, values = 'quantity', index = 'category', columns = 'County',\n",
    "                     aggfunc = 'sum')"
   ]
  },
  {
   "cell_type": "code",
   "execution_count": 26,
   "metadata": {
    "collapsed": false
   },
   "outputs": [
    {
     "data": {
      "application/vnd.plotly.v1+json": {
       "data": [
        {
         "orientation": "h",
         "type": "bar",
         "uid": "486eed90-8866-11e9-a371-aae9fe7e348c",
         "x": [
          349290.55,
          333130.59,
          85573.55000000002,
          59194.12,
          56415,
          47666,
          25981,
          18834.53,
          89.1,
          8.48
         ],
         "y": [
          "Carbon Monoxide",
          "Hydrocarbons",
          "NOx",
          "TBD",
          "Particulate Matter",
          "Sulfur dioxide",
          "VOCs",
          "Methane",
          "Hydrogen Sulfide",
          "Opacity"
         ]
        }
       ],
       "layout": {
        "hovermode": "closest",
        "title": "Contaminants - BRAZORIA",
        "xaxis": {
         "anchor": "y",
         "domain": [
          0.25,
          1
         ],
         "title": "Quantities (lbs)"
        },
        "yaxis": {
         "anchor": "x",
         "domain": [
          0,
          1
         ]
        }
       }
      },
      "text/html": [
       "<div id=\"bea35545-c030-45e0-a243-081b9ce20fd3\" style=\"height: 525px; width: 100%;\" class=\"plotly-graph-div\"></div><script type=\"text/javascript\">require([\"plotly\"], function(Plotly) { window.PLOTLYENV=window.PLOTLYENV || {};window.PLOTLYENV.BASE_URL=\"https://plot.ly\";\n",
       "        Plotly.plot(\n",
       "            'bea35545-c030-45e0-a243-081b9ce20fd3',\n",
       "            [{\"y\": [\"Carbon Monoxide\", \"Hydrocarbons\", \"NOx\", \"TBD\", \"Particulate Matter\", \"Sulfur dioxide\", \"VOCs\", \"Methane\", \"Hydrogen Sulfide\", \"Opacity\"], \"orientation\": \"h\", \"x\": [349290.55, 333130.59, 85573.55000000002, 59194.12, 56415.0, 47666.0, 25981.0, 18834.53, 89.1, 8.48], \"type\": \"bar\", \"uid\": \"486eed90-8866-11e9-a371-aae9fe7e348c\"}],\n",
       "            {\"title\": \"Contaminants - BRAZORIA\", \"xaxis\": {\"title\": \"Quantities (lbs)\", \"domain\": [0.25, 1.0], \"anchor\": \"y\"}, \"yaxis\": {\"domain\": [0.0, 1.0], \"anchor\": \"x\"}, \"hovermode\": \"closest\"},\n",
       "            {\"linkText\": \"Export to plot.ly\", \"showLink\": true}\n",
       "        ).then(function () {return Plotly.addFrames('bea35545-c030-45e0-a243-081b9ce20fd3',{});}).then(function(){Plotly.animate('bea35545-c030-45e0-a243-081b9ce20fd3');})\n",
       "        });</script>"
      ],
      "text/vnd.plotly.v1+html": [
       "<div id=\"bea35545-c030-45e0-a243-081b9ce20fd3\" style=\"height: 525px; width: 100%;\" class=\"plotly-graph-div\"></div><script type=\"text/javascript\">require([\"plotly\"], function(Plotly) { window.PLOTLYENV=window.PLOTLYENV || {};window.PLOTLYENV.BASE_URL=\"https://plot.ly\";\n",
       "        Plotly.plot(\n",
       "            'bea35545-c030-45e0-a243-081b9ce20fd3',\n",
       "            [{\"y\": [\"Carbon Monoxide\", \"Hydrocarbons\", \"NOx\", \"TBD\", \"Particulate Matter\", \"Sulfur dioxide\", \"VOCs\", \"Methane\", \"Hydrogen Sulfide\", \"Opacity\"], \"orientation\": \"h\", \"x\": [349290.55, 333130.59, 85573.55000000002, 59194.12, 56415.0, 47666.0, 25981.0, 18834.53, 89.1, 8.48], \"type\": \"bar\", \"uid\": \"486eed90-8866-11e9-a371-aae9fe7e348c\"}],\n",
       "            {\"title\": \"Contaminants - BRAZORIA\", \"xaxis\": {\"title\": \"Quantities (lbs)\", \"domain\": [0.25, 1.0], \"anchor\": \"y\"}, \"yaxis\": {\"domain\": [0.0, 1.0], \"anchor\": \"x\"}, \"hovermode\": \"closest\"},\n",
       "            {\"linkText\": \"Export to plot.ly\", \"showLink\": true}\n",
       "        ).then(function () {return Plotly.addFrames('bea35545-c030-45e0-a243-081b9ce20fd3',{});}).then(function(){Plotly.animate('bea35545-c030-45e0-a243-081b9ce20fd3');})\n",
       "        });</script>"
      ]
     },
     "metadata": {},
     "output_type": "display_data"
    }
   ],
   "source": [
    "# draw horizontal bar chart of pollutants emitted by county\n",
    "# select the county\n",
    "county = 'BRAZORIA' #df4.columns[0]\n",
    "### --------------------------------------------------------\n",
    "overall_title = \"Contaminants - \" + county\n",
    "x_title = \"Quantities (lbs)\"\n",
    "### --------------------------------------------------------\n",
    "# select only emitted contaminants to be displayed\n",
    "b_df = df4[[county]].dropna().sort_values(by = [county], ascending = False)\n",
    "### --------------------------------------------------------\n",
    "trace= [go.Bar(\n",
    "        y=b_df.index,\n",
    "        x=b_df[county],\n",
    "        orientation = 'h'\n",
    "        )]\n",
    "layout = go.Layout(title = overall_title, \n",
    "                   hovermode = 'closest',\n",
    "                   xaxis=dict(dict(title=x_title,\n",
    "                                   domain=[0.25, 1.0], anchor='y1')),\n",
    "                   yaxis=dict(dict(domain=[0.0, 1.0], anchor='x1')))\n",
    "fig = go.Figure(data = trace, layout = layout)\n",
    "pyo.iplot(fig)"
   ]
  },
  {
   "cell_type": "code",
   "execution_count": null,
   "metadata": {
    "collapsed": true
   },
   "outputs": [],
   "source": []
  }
 ],
 "metadata": {
  "anaconda-cloud": {},
  "kernelspec": {
   "display_name": "Python [conda root]",
   "language": "python",
   "name": "conda-root-py"
  },
  "language_info": {
   "codemirror_mode": {
    "name": "ipython",
    "version": 3
   },
   "file_extension": ".py",
   "mimetype": "text/x-python",
   "name": "python",
   "nbconvert_exporter": "python",
   "pygments_lexer": "ipython3",
   "version": "3.5.6"
  }
 },
 "nbformat": 4,
 "nbformat_minor": 2
}
